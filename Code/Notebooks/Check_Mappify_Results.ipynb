{
 "cells": [
  {
   "cell_type": "code",
   "execution_count": 1,
   "metadata": {},
   "outputs": [],
   "source": [
    "import pandas as pd"
   ]
  },
  {
   "cell_type": "code",
   "execution_count": 2,
   "metadata": {},
   "outputs": [],
   "source": [
    "file = pd.read_csv('/Users/fiannualamorgan/Documents/GitHub/Historical_Fires_Near_Me/Sections/Bushfire_News_Articles_19th_Century/Transformed_Data/Geocoded_LOCATION_Mappify_API/Output/2543_completed.csv')"
   ]
  },
  {
   "source": [
    "The goal is to verify the accuracy of the locations generated through the Mappify API."
   ],
   "cell_type": "markdown",
   "metadata": {}
  },
  {
   "cell_type": "code",
   "execution_count": 3,
   "metadata": {},
   "outputs": [
    {
     "output_type": "stream",
     "name": "stdout",
     "text": [
      "<class 'pandas.core.frame.DataFrame'>\nRangeIndex: 9534 entries, 0 to 9533\nData columns (total 19 columns):\n #   Column                     Non-Null Count  Dtype  \n---  ------                     --------------  -----  \n 0   0                          9534 non-null   object \n 1   1                          9534 non-null   object \n 2   2                          9534 non-null   object \n 3   mappify_buildingName       1078 non-null   object \n 4   mappify_numberFirst        6379 non-null   float64\n 5   mappify_numberFirstPrefix  0 non-null      float64\n 6   mappify_numberFirstSuffix  82 non-null     object \n 7   mappify_numberLast         2 non-null      float64\n 8   mappify_numberLastPrefix   0 non-null      float64\n 9   mappify_numberLastSuffix   0 non-null      float64\n 10  mappify_streetName         9534 non-null   object \n 11  mappify_streetType         9492 non-null   object \n 12  mappify_streetSuffixCode   43 non-null     object \n 13  mappify_suburb             9534 non-null   object \n 14  mappify_state              9534 non-null   object \n 15  mappify_postCode           9534 non-null   int64  \n 16  mappify_location_lat       9534 non-null   float64\n 17  mappify_location_lon       9534 non-null   float64\n 18  mappify_streetAddress      9534 non-null   object \ndtypes: float64(7), int64(1), object(11)\nmemory usage: 1.4+ MB\n"
     ]
    }
   ],
   "source": [
    "file.info()"
   ]
  },
  {
   "cell_type": "code",
   "execution_count": 4,
   "metadata": {},
   "outputs": [
    {
     "output_type": "execute_result",
     "data": {
      "text/plain": [
       "           0         1                                    2  \\\n",
       "0   Auckland  LOCATION     18801230-10-8991754 (1 of 1).txt   \n",
       "1    Grafton  LOCATION     18801230-10-8991754 (1 of 1).txt   \n",
       "2  Newcastle  LOCATION     18801230-10-8991754 (1 of 1).txt   \n",
       "3      Cobar  LOCATION     18801230-10-8991754 (1 of 1).txt   \n",
       "4     Albury  LOCATION  18840314-436-254369866 (1 of 1).txt   \n",
       "\n",
       "  mappify_buildingName  mappify_numberFirst  mappify_numberFirstPrefix  \\\n",
       "0          COLLIE BLUE                  NaN                        NaN   \n",
       "1                  NaN                 18.0                        NaN   \n",
       "2                  NaN                  NaN                        NaN   \n",
       "3                  NaN                 32.0                        NaN   \n",
       "4                  NaN                  NaN                        NaN   \n",
       "\n",
       "  mappify_numberFirstSuffix  mappify_numberLast  mappify_numberLastPrefix  \\\n",
       "0                       NaN                 NaN                       NaN   \n",
       "1                       NaN                 NaN                       NaN   \n",
       "2                       NaN                 NaN                       NaN   \n",
       "3                       NaN                 NaN                       NaN   \n",
       "4                       NaN                 NaN                       NaN   \n",
       "\n",
       "   mappify_numberLastSuffix  mappify_streetName mappify_streetType  \\\n",
       "0                       NaN            BUCKLAND               ROAD   \n",
       "1                       NaN     GRANTON HEIGHTS               ROAD   \n",
       "2                       NaN  REDCASTLE CEMETERY               ROAD   \n",
       "3                       NaN               COBAR             STREET   \n",
       "4                       NaN              AUBURN               ROAD   \n",
       "\n",
       "  mappify_streetSuffixCode mappify_suburb mappify_state  mappify_postCode  \\\n",
       "0                      NaN       BUCKLAND           QLD              4722   \n",
       "1                      NaN        GRANTON           TAS              7030   \n",
       "2                      NaN      REDCASTLE           VIC              3523   \n",
       "3                      NaN          COBAR           NSW              2835   \n",
       "4                      NaN         AUBURN           QLD              4413   \n",
       "\n",
       "   mappify_location_lat  mappify_location_lon  \\\n",
       "0            -24.517989            147.749324   \n",
       "1            -42.765878            147.219684   \n",
       "2            -36.792336            144.785825   \n",
       "3            -31.527505            145.856320   \n",
       "4            -26.130303            150.651719   \n",
       "\n",
       "                           mappify_streetAddress  \n",
       "0  COLLIE BLUE, BUCKLAND ROAD, BUCKLAND QLD 4722  \n",
       "1      18 GRANTON HEIGHTS ROAD, GRANTON TAS 7030  \n",
       "2    REDCASTLE CEMETERY ROAD, REDCASTLE VIC 3523  \n",
       "3                32 COBAR STREET, COBAR NSW 2835  \n",
       "4                   AUBURN ROAD, AUBURN QLD 4413  "
      ],
      "text/html": "<div>\n<style scoped>\n    .dataframe tbody tr th:only-of-type {\n        vertical-align: middle;\n    }\n\n    .dataframe tbody tr th {\n        vertical-align: top;\n    }\n\n    .dataframe thead th {\n        text-align: right;\n    }\n</style>\n<table border=\"1\" class=\"dataframe\">\n  <thead>\n    <tr style=\"text-align: right;\">\n      <th></th>\n      <th>0</th>\n      <th>1</th>\n      <th>2</th>\n      <th>mappify_buildingName</th>\n      <th>mappify_numberFirst</th>\n      <th>mappify_numberFirstPrefix</th>\n      <th>mappify_numberFirstSuffix</th>\n      <th>mappify_numberLast</th>\n      <th>mappify_numberLastPrefix</th>\n      <th>mappify_numberLastSuffix</th>\n      <th>mappify_streetName</th>\n      <th>mappify_streetType</th>\n      <th>mappify_streetSuffixCode</th>\n      <th>mappify_suburb</th>\n      <th>mappify_state</th>\n      <th>mappify_postCode</th>\n      <th>mappify_location_lat</th>\n      <th>mappify_location_lon</th>\n      <th>mappify_streetAddress</th>\n    </tr>\n  </thead>\n  <tbody>\n    <tr>\n      <th>0</th>\n      <td>Auckland</td>\n      <td>LOCATION</td>\n      <td>18801230-10-8991754 (1 of 1).txt</td>\n      <td>COLLIE BLUE</td>\n      <td>NaN</td>\n      <td>NaN</td>\n      <td>NaN</td>\n      <td>NaN</td>\n      <td>NaN</td>\n      <td>NaN</td>\n      <td>BUCKLAND</td>\n      <td>ROAD</td>\n      <td>NaN</td>\n      <td>BUCKLAND</td>\n      <td>QLD</td>\n      <td>4722</td>\n      <td>-24.517989</td>\n      <td>147.749324</td>\n      <td>COLLIE BLUE, BUCKLAND ROAD, BUCKLAND QLD 4722</td>\n    </tr>\n    <tr>\n      <th>1</th>\n      <td>Grafton</td>\n      <td>LOCATION</td>\n      <td>18801230-10-8991754 (1 of 1).txt</td>\n      <td>NaN</td>\n      <td>18.0</td>\n      <td>NaN</td>\n      <td>NaN</td>\n      <td>NaN</td>\n      <td>NaN</td>\n      <td>NaN</td>\n      <td>GRANTON HEIGHTS</td>\n      <td>ROAD</td>\n      <td>NaN</td>\n      <td>GRANTON</td>\n      <td>TAS</td>\n      <td>7030</td>\n      <td>-42.765878</td>\n      <td>147.219684</td>\n      <td>18 GRANTON HEIGHTS ROAD, GRANTON TAS 7030</td>\n    </tr>\n    <tr>\n      <th>2</th>\n      <td>Newcastle</td>\n      <td>LOCATION</td>\n      <td>18801230-10-8991754 (1 of 1).txt</td>\n      <td>NaN</td>\n      <td>NaN</td>\n      <td>NaN</td>\n      <td>NaN</td>\n      <td>NaN</td>\n      <td>NaN</td>\n      <td>NaN</td>\n      <td>REDCASTLE CEMETERY</td>\n      <td>ROAD</td>\n      <td>NaN</td>\n      <td>REDCASTLE</td>\n      <td>VIC</td>\n      <td>3523</td>\n      <td>-36.792336</td>\n      <td>144.785825</td>\n      <td>REDCASTLE CEMETERY ROAD, REDCASTLE VIC 3523</td>\n    </tr>\n    <tr>\n      <th>3</th>\n      <td>Cobar</td>\n      <td>LOCATION</td>\n      <td>18801230-10-8991754 (1 of 1).txt</td>\n      <td>NaN</td>\n      <td>32.0</td>\n      <td>NaN</td>\n      <td>NaN</td>\n      <td>NaN</td>\n      <td>NaN</td>\n      <td>NaN</td>\n      <td>COBAR</td>\n      <td>STREET</td>\n      <td>NaN</td>\n      <td>COBAR</td>\n      <td>NSW</td>\n      <td>2835</td>\n      <td>-31.527505</td>\n      <td>145.856320</td>\n      <td>32 COBAR STREET, COBAR NSW 2835</td>\n    </tr>\n    <tr>\n      <th>4</th>\n      <td>Albury</td>\n      <td>LOCATION</td>\n      <td>18840314-436-254369866 (1 of 1).txt</td>\n      <td>NaN</td>\n      <td>NaN</td>\n      <td>NaN</td>\n      <td>NaN</td>\n      <td>NaN</td>\n      <td>NaN</td>\n      <td>NaN</td>\n      <td>AUBURN</td>\n      <td>ROAD</td>\n      <td>NaN</td>\n      <td>AUBURN</td>\n      <td>QLD</td>\n      <td>4413</td>\n      <td>-26.130303</td>\n      <td>150.651719</td>\n      <td>AUBURN ROAD, AUBURN QLD 4413</td>\n    </tr>\n  </tbody>\n</table>\n</div>"
     },
     "metadata": {},
     "execution_count": 4
    }
   ],
   "source": [
    "file.head()"
   ]
  },
  {
   "cell_type": "code",
   "execution_count": 5,
   "metadata": {},
   "outputs": [
    {
     "output_type": "execute_result",
     "data": {
      "text/plain": [
       "Melbourne       767\n",
       "Adelaide        280\n",
       "England         254\n",
       "Ballarat        211\n",
       "London          197\n",
       "               ... \n",
       "Balla             1\n",
       "Berrlgan          1\n",
       "Grose Valley      1\n",
       "Marongo           1\n",
       "Rockley           1\n",
       "Name: 0, Length: 2216, dtype: int64"
      ]
     },
     "metadata": {},
     "execution_count": 5
    }
   ],
   "source": [
    "file['0'].value_counts()\n"
   ]
  },
  {
   "source": [
    "I can see that my spreadsheet has generated a lot of mentions to England and to London that have been coded, so these need to be removed. England is being put in 'Pentland' QLD. This is a Levenstein distance of 2 so I need to reduce this to 1. "
   ],
   "cell_type": "markdown",
   "metadata": {}
  },
  {
   "source": [
    "Return total number of placenames that identically match the Mappify returned result. Only 457 out of 9534 are identical results. "
   ],
   "cell_type": "markdown",
   "metadata": {}
  },
  {
   "cell_type": "code",
   "execution_count": 6,
   "metadata": {},
   "outputs": [
    {
     "output_type": "execute_result",
     "data": {
      "text/plain": [
       "              0         1                                     2  \\\n",
       "13       BOWRAL  LOCATION    18960114-35-14033182 (3 of 14).txt   \n",
       "16     BERRIGAN  LOCATION    18960114-35-14033182 (3 of 14).txt   \n",
       "23       COROWA  LOCATION     18981217-52-71321501 (2 of 6).txt   \n",
       "71        MOORA  LOCATION    18961221-346-88994627 (1 of 1).txt   \n",
       "83       ALBANY  LOCATION      18910107-30-3139737 (2 of 2).txt   \n",
       "...         ...       ...                                   ...   \n",
       "9296  MELBOURNE  LOCATION   18980208-966-199925646 (2 of 4).txt   \n",
       "9426  MELBOURNE  LOCATION  18980209-1459-255622029 (1 of 4).txt   \n",
       "9469    BENDIGO  LOCATION      18960111-13-8887399 (1 of 8).txt   \n",
       "9483  WELSHPOOL  LOCATION  18930218-319-198032478 (7 of 10).txt   \n",
       "9510     MULGOA  LOCATION   18950914-52-71222902 (19 of 21).txt   \n",
       "\n",
       "     mappify_buildingName  mappify_numberFirst  mappify_numberFirstPrefix  \\\n",
       "13                    NaN                148.0                        NaN   \n",
       "16                  KIETA               1583.0                        NaN   \n",
       "23                    NaN                  6.0                        NaN   \n",
       "71                    NaN                  NaN                        NaN   \n",
       "83                    NaN                  3.0                        NaN   \n",
       "...                   ...                  ...                        ...   \n",
       "9296                  NaN                  6.0                        NaN   \n",
       "9426                  NaN                  6.0                        NaN   \n",
       "9469  BENDIGO MARKETPLACE                  1.0                        NaN   \n",
       "9483                  NaN                  NaN                        NaN   \n",
       "9510                  NaN                408.0                        NaN   \n",
       "\n",
       "     mappify_numberFirstSuffix  mappify_numberLast  mappify_numberLastPrefix  \\\n",
       "13                         NaN                 NaN                       NaN   \n",
       "16                         NaN                 NaN                       NaN   \n",
       "23                         NaN                 NaN                       NaN   \n",
       "71                         NaN                 NaN                       NaN   \n",
       "83                         NaN                 NaN                       NaN   \n",
       "...                        ...                 ...                       ...   \n",
       "9296                       NaN                 NaN                       NaN   \n",
       "9426                       NaN                 NaN                       NaN   \n",
       "9469                       NaN                 NaN                       NaN   \n",
       "9483                       NaN                 NaN                       NaN   \n",
       "9510                       NaN                 NaN                       NaN   \n",
       "\n",
       "      mappify_numberLastSuffix   mappify_streetName mappify_streetType  \\\n",
       "13                         NaN               BOWRAL             STREET   \n",
       "16                         NaN             BERRIGAN               ROAD   \n",
       "23                         NaN               CORONA               ROAD   \n",
       "71                         NaN                MOORE             STREET   \n",
       "83                         NaN               ALBANY            HIGHWAY   \n",
       "...                        ...                  ...                ...   \n",
       "9296                       NaN            MELBOURNE              PLACE   \n",
       "9426                       NaN            MELBOURNE              PLACE   \n",
       "9469                       NaN  BENDIGO MARKETPLACE                NaN   \n",
       "9483                       NaN            WELSHPOOL               ROAD   \n",
       "9510                       NaN               MULGOA               ROAD   \n",
       "\n",
       "     mappify_streetSuffixCode mappify_suburb mappify_state  mappify_postCode  \\\n",
       "13                        NaN         BOWRAL           NSW              2576   \n",
       "16                        NaN       BERRIGAN           NSW              2712   \n",
       "23                        NaN         COROWA           NSW              2646   \n",
       "71                        NaN          MOORA            WA              6510   \n",
       "83                        NaN         ALBANY            WA              6330   \n",
       "...                       ...            ...           ...               ...   \n",
       "9296                      NaN      MELBOURNE           VIC              3000   \n",
       "9426                      NaN      MELBOURNE           VIC              3000   \n",
       "9469                      NaN        BENDIGO           VIC              3550   \n",
       "9483                      NaN      WELSHPOOL            WA              6106   \n",
       "9510                      NaN         MULGOA           NSW              2745   \n",
       "\n",
       "      mappify_location_lat  mappify_location_lon  \\\n",
       "13              -34.483951            150.431638   \n",
       "16              -35.766845            145.751558   \n",
       "23              -35.973477            146.346873   \n",
       "71              -30.638246            115.997263   \n",
       "83              -35.020409            117.882354   \n",
       "...                    ...                   ...   \n",
       "9296            -37.813513            144.969082   \n",
       "9426            -37.813513            144.969082   \n",
       "9469            -36.765525            144.280931   \n",
       "9483            -32.002654            115.976950   \n",
       "9510            -33.776221            150.660755   \n",
       "\n",
       "                                  mappify_streetAddress  \n",
       "13                   148 BOWRAL STREET, BOWRAL NSW 2576  \n",
       "16         KIETA, 1583 BERRIGAN ROAD, BERRIGAN NSW 2712  \n",
       "23                       6 CORONA ROAD, COROWA NSW 2646  \n",
       "71                          MOORE STREET, MOORA WA 6510  \n",
       "83                     3 ALBANY HIGHWAY, ALBANY WA 6330  \n",
       "...                                                 ...  \n",
       "9296              6 MELBOURNE PLACE, MELBOURNE VIC 3000  \n",
       "9426              6 MELBOURNE PLACE, MELBOURNE VIC 3000  \n",
       "9469  BENDIGO MARKETPLACE, 1 BENDIGO MARKETPLACE, BE...  \n",
       "9483                  WELSHPOOL ROAD, WELSHPOOL WA 6106  \n",
       "9510                   408 MULGOA ROAD, MULGOA NSW 2745  \n",
       "\n",
       "[457 rows x 19 columns]"
      ],
      "text/html": "<div>\n<style scoped>\n    .dataframe tbody tr th:only-of-type {\n        vertical-align: middle;\n    }\n\n    .dataframe tbody tr th {\n        vertical-align: top;\n    }\n\n    .dataframe thead th {\n        text-align: right;\n    }\n</style>\n<table border=\"1\" class=\"dataframe\">\n  <thead>\n    <tr style=\"text-align: right;\">\n      <th></th>\n      <th>0</th>\n      <th>1</th>\n      <th>2</th>\n      <th>mappify_buildingName</th>\n      <th>mappify_numberFirst</th>\n      <th>mappify_numberFirstPrefix</th>\n      <th>mappify_numberFirstSuffix</th>\n      <th>mappify_numberLast</th>\n      <th>mappify_numberLastPrefix</th>\n      <th>mappify_numberLastSuffix</th>\n      <th>mappify_streetName</th>\n      <th>mappify_streetType</th>\n      <th>mappify_streetSuffixCode</th>\n      <th>mappify_suburb</th>\n      <th>mappify_state</th>\n      <th>mappify_postCode</th>\n      <th>mappify_location_lat</th>\n      <th>mappify_location_lon</th>\n      <th>mappify_streetAddress</th>\n    </tr>\n  </thead>\n  <tbody>\n    <tr>\n      <th>13</th>\n      <td>BOWRAL</td>\n      <td>LOCATION</td>\n      <td>18960114-35-14033182 (3 of 14).txt</td>\n      <td>NaN</td>\n      <td>148.0</td>\n      <td>NaN</td>\n      <td>NaN</td>\n      <td>NaN</td>\n      <td>NaN</td>\n      <td>NaN</td>\n      <td>BOWRAL</td>\n      <td>STREET</td>\n      <td>NaN</td>\n      <td>BOWRAL</td>\n      <td>NSW</td>\n      <td>2576</td>\n      <td>-34.483951</td>\n      <td>150.431638</td>\n      <td>148 BOWRAL STREET, BOWRAL NSW 2576</td>\n    </tr>\n    <tr>\n      <th>16</th>\n      <td>BERRIGAN</td>\n      <td>LOCATION</td>\n      <td>18960114-35-14033182 (3 of 14).txt</td>\n      <td>KIETA</td>\n      <td>1583.0</td>\n      <td>NaN</td>\n      <td>NaN</td>\n      <td>NaN</td>\n      <td>NaN</td>\n      <td>NaN</td>\n      <td>BERRIGAN</td>\n      <td>ROAD</td>\n      <td>NaN</td>\n      <td>BERRIGAN</td>\n      <td>NSW</td>\n      <td>2712</td>\n      <td>-35.766845</td>\n      <td>145.751558</td>\n      <td>KIETA, 1583 BERRIGAN ROAD, BERRIGAN NSW 2712</td>\n    </tr>\n    <tr>\n      <th>23</th>\n      <td>COROWA</td>\n      <td>LOCATION</td>\n      <td>18981217-52-71321501 (2 of 6).txt</td>\n      <td>NaN</td>\n      <td>6.0</td>\n      <td>NaN</td>\n      <td>NaN</td>\n      <td>NaN</td>\n      <td>NaN</td>\n      <td>NaN</td>\n      <td>CORONA</td>\n      <td>ROAD</td>\n      <td>NaN</td>\n      <td>COROWA</td>\n      <td>NSW</td>\n      <td>2646</td>\n      <td>-35.973477</td>\n      <td>146.346873</td>\n      <td>6 CORONA ROAD, COROWA NSW 2646</td>\n    </tr>\n    <tr>\n      <th>71</th>\n      <td>MOORA</td>\n      <td>LOCATION</td>\n      <td>18961221-346-88994627 (1 of 1).txt</td>\n      <td>NaN</td>\n      <td>NaN</td>\n      <td>NaN</td>\n      <td>NaN</td>\n      <td>NaN</td>\n      <td>NaN</td>\n      <td>NaN</td>\n      <td>MOORE</td>\n      <td>STREET</td>\n      <td>NaN</td>\n      <td>MOORA</td>\n      <td>WA</td>\n      <td>6510</td>\n      <td>-30.638246</td>\n      <td>115.997263</td>\n      <td>MOORE STREET, MOORA WA 6510</td>\n    </tr>\n    <tr>\n      <th>83</th>\n      <td>ALBANY</td>\n      <td>LOCATION</td>\n      <td>18910107-30-3139737 (2 of 2).txt</td>\n      <td>NaN</td>\n      <td>3.0</td>\n      <td>NaN</td>\n      <td>NaN</td>\n      <td>NaN</td>\n      <td>NaN</td>\n      <td>NaN</td>\n      <td>ALBANY</td>\n      <td>HIGHWAY</td>\n      <td>NaN</td>\n      <td>ALBANY</td>\n      <td>WA</td>\n      <td>6330</td>\n      <td>-35.020409</td>\n      <td>117.882354</td>\n      <td>3 ALBANY HIGHWAY, ALBANY WA 6330</td>\n    </tr>\n    <tr>\n      <th>...</th>\n      <td>...</td>\n      <td>...</td>\n      <td>...</td>\n      <td>...</td>\n      <td>...</td>\n      <td>...</td>\n      <td>...</td>\n      <td>...</td>\n      <td>...</td>\n      <td>...</td>\n      <td>...</td>\n      <td>...</td>\n      <td>...</td>\n      <td>...</td>\n      <td>...</td>\n      <td>...</td>\n      <td>...</td>\n      <td>...</td>\n      <td>...</td>\n    </tr>\n    <tr>\n      <th>9296</th>\n      <td>MELBOURNE</td>\n      <td>LOCATION</td>\n      <td>18980208-966-199925646 (2 of 4).txt</td>\n      <td>NaN</td>\n      <td>6.0</td>\n      <td>NaN</td>\n      <td>NaN</td>\n      <td>NaN</td>\n      <td>NaN</td>\n      <td>NaN</td>\n      <td>MELBOURNE</td>\n      <td>PLACE</td>\n      <td>NaN</td>\n      <td>MELBOURNE</td>\n      <td>VIC</td>\n      <td>3000</td>\n      <td>-37.813513</td>\n      <td>144.969082</td>\n      <td>6 MELBOURNE PLACE, MELBOURNE VIC 3000</td>\n    </tr>\n    <tr>\n      <th>9426</th>\n      <td>MELBOURNE</td>\n      <td>LOCATION</td>\n      <td>18980209-1459-255622029 (1 of 4).txt</td>\n      <td>NaN</td>\n      <td>6.0</td>\n      <td>NaN</td>\n      <td>NaN</td>\n      <td>NaN</td>\n      <td>NaN</td>\n      <td>NaN</td>\n      <td>MELBOURNE</td>\n      <td>PLACE</td>\n      <td>NaN</td>\n      <td>MELBOURNE</td>\n      <td>VIC</td>\n      <td>3000</td>\n      <td>-37.813513</td>\n      <td>144.969082</td>\n      <td>6 MELBOURNE PLACE, MELBOURNE VIC 3000</td>\n    </tr>\n    <tr>\n      <th>9469</th>\n      <td>BENDIGO</td>\n      <td>LOCATION</td>\n      <td>18960111-13-8887399 (1 of 8).txt</td>\n      <td>BENDIGO MARKETPLACE</td>\n      <td>1.0</td>\n      <td>NaN</td>\n      <td>NaN</td>\n      <td>NaN</td>\n      <td>NaN</td>\n      <td>NaN</td>\n      <td>BENDIGO MARKETPLACE</td>\n      <td>NaN</td>\n      <td>NaN</td>\n      <td>BENDIGO</td>\n      <td>VIC</td>\n      <td>3550</td>\n      <td>-36.765525</td>\n      <td>144.280931</td>\n      <td>BENDIGO MARKETPLACE, 1 BENDIGO MARKETPLACE, BE...</td>\n    </tr>\n    <tr>\n      <th>9483</th>\n      <td>WELSHPOOL</td>\n      <td>LOCATION</td>\n      <td>18930218-319-198032478 (7 of 10).txt</td>\n      <td>NaN</td>\n      <td>NaN</td>\n      <td>NaN</td>\n      <td>NaN</td>\n      <td>NaN</td>\n      <td>NaN</td>\n      <td>NaN</td>\n      <td>WELSHPOOL</td>\n      <td>ROAD</td>\n      <td>NaN</td>\n      <td>WELSHPOOL</td>\n      <td>WA</td>\n      <td>6106</td>\n      <td>-32.002654</td>\n      <td>115.976950</td>\n      <td>WELSHPOOL ROAD, WELSHPOOL WA 6106</td>\n    </tr>\n    <tr>\n      <th>9510</th>\n      <td>MULGOA</td>\n      <td>LOCATION</td>\n      <td>18950914-52-71222902 (19 of 21).txt</td>\n      <td>NaN</td>\n      <td>408.0</td>\n      <td>NaN</td>\n      <td>NaN</td>\n      <td>NaN</td>\n      <td>NaN</td>\n      <td>NaN</td>\n      <td>MULGOA</td>\n      <td>ROAD</td>\n      <td>NaN</td>\n      <td>MULGOA</td>\n      <td>NSW</td>\n      <td>2745</td>\n      <td>-33.776221</td>\n      <td>150.660755</td>\n      <td>408 MULGOA ROAD, MULGOA NSW 2745</td>\n    </tr>\n  </tbody>\n</table>\n<p>457 rows × 19 columns</p>\n</div>"
     },
     "metadata": {},
     "execution_count": 6
    }
   ],
   "source": [
    "file.loc[file['0'] == file['mappify_suburb']]"
   ]
  },
  {
   "cell_type": "code",
   "execution_count": 7,
   "metadata": {},
   "outputs": [
    {
     "output_type": "execute_result",
     "data": {
      "text/plain": [
       "           0         1                                    2  \\\n",
       "0   AUCKLAND  LOCATION     18801230-10-8991754 (1 of 1).txt   \n",
       "1    GRAFTON  LOCATION     18801230-10-8991754 (1 of 1).txt   \n",
       "2  NEWCASTLE  LOCATION     18801230-10-8991754 (1 of 1).txt   \n",
       "3      COBAR  LOCATION     18801230-10-8991754 (1 of 1).txt   \n",
       "4     ALBURY  LOCATION  18840314-436-254369866 (1 of 1).txt   \n",
       "\n",
       "  mappify_buildingName  mappify_numberFirst  mappify_numberFirstPrefix  \\\n",
       "0          COLLIE BLUE                  NaN                        NaN   \n",
       "1                  NaN                 18.0                        NaN   \n",
       "2                  NaN                  NaN                        NaN   \n",
       "3                  NaN                 32.0                        NaN   \n",
       "4                  NaN                  NaN                        NaN   \n",
       "\n",
       "  mappify_numberFirstSuffix  mappify_numberLast  mappify_numberLastPrefix  \\\n",
       "0                       NaN                 NaN                       NaN   \n",
       "1                       NaN                 NaN                       NaN   \n",
       "2                       NaN                 NaN                       NaN   \n",
       "3                       NaN                 NaN                       NaN   \n",
       "4                       NaN                 NaN                       NaN   \n",
       "\n",
       "   mappify_numberLastSuffix  mappify_streetName mappify_streetType  \\\n",
       "0                       NaN            BUCKLAND               ROAD   \n",
       "1                       NaN     GRANTON HEIGHTS               ROAD   \n",
       "2                       NaN  REDCASTLE CEMETERY               ROAD   \n",
       "3                       NaN               COBAR             STREET   \n",
       "4                       NaN              AUBURN               ROAD   \n",
       "\n",
       "  mappify_streetSuffixCode mappify_suburb mappify_state  mappify_postCode  \\\n",
       "0                      NaN       BUCKLAND           QLD              4722   \n",
       "1                      NaN        GRANTON           TAS              7030   \n",
       "2                      NaN      REDCASTLE           VIC              3523   \n",
       "3                      NaN          COBAR           NSW              2835   \n",
       "4                      NaN         AUBURN           QLD              4413   \n",
       "\n",
       "   mappify_location_lat  mappify_location_lon  \\\n",
       "0            -24.517989            147.749324   \n",
       "1            -42.765878            147.219684   \n",
       "2            -36.792336            144.785825   \n",
       "3            -31.527505            145.856320   \n",
       "4            -26.130303            150.651719   \n",
       "\n",
       "                           mappify_streetAddress  \n",
       "0  COLLIE BLUE, BUCKLAND ROAD, BUCKLAND QLD 4722  \n",
       "1      18 GRANTON HEIGHTS ROAD, GRANTON TAS 7030  \n",
       "2    REDCASTLE CEMETERY ROAD, REDCASTLE VIC 3523  \n",
       "3                32 COBAR STREET, COBAR NSW 2835  \n",
       "4                   AUBURN ROAD, AUBURN QLD 4413  "
      ],
      "text/html": "<div>\n<style scoped>\n    .dataframe tbody tr th:only-of-type {\n        vertical-align: middle;\n    }\n\n    .dataframe tbody tr th {\n        vertical-align: top;\n    }\n\n    .dataframe thead th {\n        text-align: right;\n    }\n</style>\n<table border=\"1\" class=\"dataframe\">\n  <thead>\n    <tr style=\"text-align: right;\">\n      <th></th>\n      <th>0</th>\n      <th>1</th>\n      <th>2</th>\n      <th>mappify_buildingName</th>\n      <th>mappify_numberFirst</th>\n      <th>mappify_numberFirstPrefix</th>\n      <th>mappify_numberFirstSuffix</th>\n      <th>mappify_numberLast</th>\n      <th>mappify_numberLastPrefix</th>\n      <th>mappify_numberLastSuffix</th>\n      <th>mappify_streetName</th>\n      <th>mappify_streetType</th>\n      <th>mappify_streetSuffixCode</th>\n      <th>mappify_suburb</th>\n      <th>mappify_state</th>\n      <th>mappify_postCode</th>\n      <th>mappify_location_lat</th>\n      <th>mappify_location_lon</th>\n      <th>mappify_streetAddress</th>\n    </tr>\n  </thead>\n  <tbody>\n    <tr>\n      <th>0</th>\n      <td>AUCKLAND</td>\n      <td>LOCATION</td>\n      <td>18801230-10-8991754 (1 of 1).txt</td>\n      <td>COLLIE BLUE</td>\n      <td>NaN</td>\n      <td>NaN</td>\n      <td>NaN</td>\n      <td>NaN</td>\n      <td>NaN</td>\n      <td>NaN</td>\n      <td>BUCKLAND</td>\n      <td>ROAD</td>\n      <td>NaN</td>\n      <td>BUCKLAND</td>\n      <td>QLD</td>\n      <td>4722</td>\n      <td>-24.517989</td>\n      <td>147.749324</td>\n      <td>COLLIE BLUE, BUCKLAND ROAD, BUCKLAND QLD 4722</td>\n    </tr>\n    <tr>\n      <th>1</th>\n      <td>GRAFTON</td>\n      <td>LOCATION</td>\n      <td>18801230-10-8991754 (1 of 1).txt</td>\n      <td>NaN</td>\n      <td>18.0</td>\n      <td>NaN</td>\n      <td>NaN</td>\n      <td>NaN</td>\n      <td>NaN</td>\n      <td>NaN</td>\n      <td>GRANTON HEIGHTS</td>\n      <td>ROAD</td>\n      <td>NaN</td>\n      <td>GRANTON</td>\n      <td>TAS</td>\n      <td>7030</td>\n      <td>-42.765878</td>\n      <td>147.219684</td>\n      <td>18 GRANTON HEIGHTS ROAD, GRANTON TAS 7030</td>\n    </tr>\n    <tr>\n      <th>2</th>\n      <td>NEWCASTLE</td>\n      <td>LOCATION</td>\n      <td>18801230-10-8991754 (1 of 1).txt</td>\n      <td>NaN</td>\n      <td>NaN</td>\n      <td>NaN</td>\n      <td>NaN</td>\n      <td>NaN</td>\n      <td>NaN</td>\n      <td>NaN</td>\n      <td>REDCASTLE CEMETERY</td>\n      <td>ROAD</td>\n      <td>NaN</td>\n      <td>REDCASTLE</td>\n      <td>VIC</td>\n      <td>3523</td>\n      <td>-36.792336</td>\n      <td>144.785825</td>\n      <td>REDCASTLE CEMETERY ROAD, REDCASTLE VIC 3523</td>\n    </tr>\n    <tr>\n      <th>3</th>\n      <td>COBAR</td>\n      <td>LOCATION</td>\n      <td>18801230-10-8991754 (1 of 1).txt</td>\n      <td>NaN</td>\n      <td>32.0</td>\n      <td>NaN</td>\n      <td>NaN</td>\n      <td>NaN</td>\n      <td>NaN</td>\n      <td>NaN</td>\n      <td>COBAR</td>\n      <td>STREET</td>\n      <td>NaN</td>\n      <td>COBAR</td>\n      <td>NSW</td>\n      <td>2835</td>\n      <td>-31.527505</td>\n      <td>145.856320</td>\n      <td>32 COBAR STREET, COBAR NSW 2835</td>\n    </tr>\n    <tr>\n      <th>4</th>\n      <td>ALBURY</td>\n      <td>LOCATION</td>\n      <td>18840314-436-254369866 (1 of 1).txt</td>\n      <td>NaN</td>\n      <td>NaN</td>\n      <td>NaN</td>\n      <td>NaN</td>\n      <td>NaN</td>\n      <td>NaN</td>\n      <td>NaN</td>\n      <td>AUBURN</td>\n      <td>ROAD</td>\n      <td>NaN</td>\n      <td>AUBURN</td>\n      <td>QLD</td>\n      <td>4413</td>\n      <td>-26.130303</td>\n      <td>150.651719</td>\n      <td>AUBURN ROAD, AUBURN QLD 4413</td>\n    </tr>\n  </tbody>\n</table>\n</div>"
     },
     "metadata": {},
     "execution_count": 7
    }
   ],
   "source": [
    "file['0'] = file['0'].str.upper()\n",
    "file.head()"
   ]
  },
  {
   "cell_type": "code",
   "execution_count": 8,
   "metadata": {},
   "outputs": [
    {
     "output_type": "stream",
     "name": "stderr",
     "text": [
      "/Users/fiannualamorgan/anaconda3/lib/python3.8/site-packages/fuzzywuzzy/fuzz.py:11: UserWarning: Using slow pure-python SequenceMatcher. Install python-Levenshtein to remove this warning\n  warnings.warn('Using slow pure-python SequenceMatcher. Install python-Levenshtein to remove this warning')\n"
     ]
    }
   ],
   "source": [
    "from fuzzywuzzy import fuzz"
   ]
  },
  {
   "cell_type": "code",
   "execution_count": 9,
   "metadata": {},
   "outputs": [],
   "source": [
    "file['partial ratio'] = file.apply(lambda x: fuzz.partial_ratio(x['0'], x['mappify_suburb']), axis=1)"
   ]
  },
  {
   "cell_type": "code",
   "execution_count": 10,
   "metadata": {},
   "outputs": [
    {
     "output_type": "execute_result",
     "data": {
      "text/plain": [
       "           0         1                                    2  \\\n",
       "0   AUCKLAND  LOCATION     18801230-10-8991754 (1 of 1).txt   \n",
       "1    GRAFTON  LOCATION     18801230-10-8991754 (1 of 1).txt   \n",
       "2  NEWCASTLE  LOCATION     18801230-10-8991754 (1 of 1).txt   \n",
       "3      COBAR  LOCATION     18801230-10-8991754 (1 of 1).txt   \n",
       "4     ALBURY  LOCATION  18840314-436-254369866 (1 of 1).txt   \n",
       "\n",
       "  mappify_buildingName  mappify_numberFirst  mappify_numberFirstPrefix  \\\n",
       "0          COLLIE BLUE                  NaN                        NaN   \n",
       "1                  NaN                 18.0                        NaN   \n",
       "2                  NaN                  NaN                        NaN   \n",
       "3                  NaN                 32.0                        NaN   \n",
       "4                  NaN                  NaN                        NaN   \n",
       "\n",
       "  mappify_numberFirstSuffix  mappify_numberLast  mappify_numberLastPrefix  \\\n",
       "0                       NaN                 NaN                       NaN   \n",
       "1                       NaN                 NaN                       NaN   \n",
       "2                       NaN                 NaN                       NaN   \n",
       "3                       NaN                 NaN                       NaN   \n",
       "4                       NaN                 NaN                       NaN   \n",
       "\n",
       "   mappify_numberLastSuffix  mappify_streetName mappify_streetType  \\\n",
       "0                       NaN            BUCKLAND               ROAD   \n",
       "1                       NaN     GRANTON HEIGHTS               ROAD   \n",
       "2                       NaN  REDCASTLE CEMETERY               ROAD   \n",
       "3                       NaN               COBAR             STREET   \n",
       "4                       NaN              AUBURN               ROAD   \n",
       "\n",
       "  mappify_streetSuffixCode mappify_suburb mappify_state  mappify_postCode  \\\n",
       "0                      NaN       BUCKLAND           QLD              4722   \n",
       "1                      NaN        GRANTON           TAS              7030   \n",
       "2                      NaN      REDCASTLE           VIC              3523   \n",
       "3                      NaN          COBAR           NSW              2835   \n",
       "4                      NaN         AUBURN           QLD              4413   \n",
       "\n",
       "   mappify_location_lat  mappify_location_lon  \\\n",
       "0            -24.517989            147.749324   \n",
       "1            -42.765878            147.219684   \n",
       "2            -36.792336            144.785825   \n",
       "3            -31.527505            145.856320   \n",
       "4            -26.130303            150.651719   \n",
       "\n",
       "                           mappify_streetAddress  partial ratio  \n",
       "0  COLLIE BLUE, BUCKLAND ROAD, BUCKLAND QLD 4722             88  \n",
       "1      18 GRANTON HEIGHTS ROAD, GRANTON TAS 7030             86  \n",
       "2    REDCASTLE CEMETERY ROAD, REDCASTLE VIC 3523             78  \n",
       "3                32 COBAR STREET, COBAR NSW 2835            100  \n",
       "4                   AUBURN ROAD, AUBURN QLD 4413             67  "
      ],
      "text/html": "<div>\n<style scoped>\n    .dataframe tbody tr th:only-of-type {\n        vertical-align: middle;\n    }\n\n    .dataframe tbody tr th {\n        vertical-align: top;\n    }\n\n    .dataframe thead th {\n        text-align: right;\n    }\n</style>\n<table border=\"1\" class=\"dataframe\">\n  <thead>\n    <tr style=\"text-align: right;\">\n      <th></th>\n      <th>0</th>\n      <th>1</th>\n      <th>2</th>\n      <th>mappify_buildingName</th>\n      <th>mappify_numberFirst</th>\n      <th>mappify_numberFirstPrefix</th>\n      <th>mappify_numberFirstSuffix</th>\n      <th>mappify_numberLast</th>\n      <th>mappify_numberLastPrefix</th>\n      <th>mappify_numberLastSuffix</th>\n      <th>mappify_streetName</th>\n      <th>mappify_streetType</th>\n      <th>mappify_streetSuffixCode</th>\n      <th>mappify_suburb</th>\n      <th>mappify_state</th>\n      <th>mappify_postCode</th>\n      <th>mappify_location_lat</th>\n      <th>mappify_location_lon</th>\n      <th>mappify_streetAddress</th>\n      <th>partial ratio</th>\n    </tr>\n  </thead>\n  <tbody>\n    <tr>\n      <th>0</th>\n      <td>AUCKLAND</td>\n      <td>LOCATION</td>\n      <td>18801230-10-8991754 (1 of 1).txt</td>\n      <td>COLLIE BLUE</td>\n      <td>NaN</td>\n      <td>NaN</td>\n      <td>NaN</td>\n      <td>NaN</td>\n      <td>NaN</td>\n      <td>NaN</td>\n      <td>BUCKLAND</td>\n      <td>ROAD</td>\n      <td>NaN</td>\n      <td>BUCKLAND</td>\n      <td>QLD</td>\n      <td>4722</td>\n      <td>-24.517989</td>\n      <td>147.749324</td>\n      <td>COLLIE BLUE, BUCKLAND ROAD, BUCKLAND QLD 4722</td>\n      <td>88</td>\n    </tr>\n    <tr>\n      <th>1</th>\n      <td>GRAFTON</td>\n      <td>LOCATION</td>\n      <td>18801230-10-8991754 (1 of 1).txt</td>\n      <td>NaN</td>\n      <td>18.0</td>\n      <td>NaN</td>\n      <td>NaN</td>\n      <td>NaN</td>\n      <td>NaN</td>\n      <td>NaN</td>\n      <td>GRANTON HEIGHTS</td>\n      <td>ROAD</td>\n      <td>NaN</td>\n      <td>GRANTON</td>\n      <td>TAS</td>\n      <td>7030</td>\n      <td>-42.765878</td>\n      <td>147.219684</td>\n      <td>18 GRANTON HEIGHTS ROAD, GRANTON TAS 7030</td>\n      <td>86</td>\n    </tr>\n    <tr>\n      <th>2</th>\n      <td>NEWCASTLE</td>\n      <td>LOCATION</td>\n      <td>18801230-10-8991754 (1 of 1).txt</td>\n      <td>NaN</td>\n      <td>NaN</td>\n      <td>NaN</td>\n      <td>NaN</td>\n      <td>NaN</td>\n      <td>NaN</td>\n      <td>NaN</td>\n      <td>REDCASTLE CEMETERY</td>\n      <td>ROAD</td>\n      <td>NaN</td>\n      <td>REDCASTLE</td>\n      <td>VIC</td>\n      <td>3523</td>\n      <td>-36.792336</td>\n      <td>144.785825</td>\n      <td>REDCASTLE CEMETERY ROAD, REDCASTLE VIC 3523</td>\n      <td>78</td>\n    </tr>\n    <tr>\n      <th>3</th>\n      <td>COBAR</td>\n      <td>LOCATION</td>\n      <td>18801230-10-8991754 (1 of 1).txt</td>\n      <td>NaN</td>\n      <td>32.0</td>\n      <td>NaN</td>\n      <td>NaN</td>\n      <td>NaN</td>\n      <td>NaN</td>\n      <td>NaN</td>\n      <td>COBAR</td>\n      <td>STREET</td>\n      <td>NaN</td>\n      <td>COBAR</td>\n      <td>NSW</td>\n      <td>2835</td>\n      <td>-31.527505</td>\n      <td>145.856320</td>\n      <td>32 COBAR STREET, COBAR NSW 2835</td>\n      <td>100</td>\n    </tr>\n    <tr>\n      <th>4</th>\n      <td>ALBURY</td>\n      <td>LOCATION</td>\n      <td>18840314-436-254369866 (1 of 1).txt</td>\n      <td>NaN</td>\n      <td>NaN</td>\n      <td>NaN</td>\n      <td>NaN</td>\n      <td>NaN</td>\n      <td>NaN</td>\n      <td>NaN</td>\n      <td>AUBURN</td>\n      <td>ROAD</td>\n      <td>NaN</td>\n      <td>AUBURN</td>\n      <td>QLD</td>\n      <td>4413</td>\n      <td>-26.130303</td>\n      <td>150.651719</td>\n      <td>AUBURN ROAD, AUBURN QLD 4413</td>\n      <td>67</td>\n    </tr>\n  </tbody>\n</table>\n</div>"
     },
     "metadata": {},
     "execution_count": 10
    }
   ],
   "source": [
    "file.head()\n"
   ]
  },
  {
   "source": [
    "Evaluate how many placenames are exact matches and how many have a high threshold. Out of 9534 over half, that is, 5532 are exact matches. Placenames that have scored in the 90s are acceptable, however, anything lower is no good. I also still have not eliminated England or London.  90 is the minimun acceptable threshold for inclusion."
   ],
   "cell_type": "markdown",
   "metadata": {}
  },
  {
   "cell_type": "code",
   "execution_count": 11,
   "metadata": {},
   "outputs": [
    {
     "output_type": "execute_result",
     "data": {
      "text/plain": [
       "100    5532\n",
       "67      837\n",
       "86      801\n",
       "80      513\n",
       "83      378\n",
       "71      292\n",
       "75      280\n",
       "88      232\n",
       "78      217\n",
       "89      178\n",
       "90       85\n",
       "82       60\n",
       "91       55\n",
       "92       37\n",
       "93       16\n",
       "60        8\n",
       "85        4\n",
       "77        2\n",
       "73        2\n",
       "87        2\n",
       "43        1\n",
       "62        1\n",
       "94        1\n",
       "Name: partial ratio, dtype: int64"
      ]
     },
     "metadata": {},
     "execution_count": 11
    }
   ],
   "source": [
    "file['partial ratio'].value_counts()"
   ]
  },
  {
   "source": [
    "Check the rows that mention England"
   ],
   "cell_type": "markdown",
   "metadata": {}
  },
  {
   "cell_type": "code",
   "execution_count": 12,
   "metadata": {},
   "outputs": [
    {
     "output_type": "execute_result",
     "data": {
      "text/plain": [
       "            0         1                                     2  \\\n",
       "47    ENGLAND  LOCATION   18660308-558-147267336 (1 of 2).txt   \n",
       "56    ENGLAND  LOCATION     18741218-35-13336814 (1 of 1).txt   \n",
       "191   ENGLAND  LOCATION     18650414-35-13103165 (1 of 2).txt   \n",
       "228   ENGLAND  LOCATION   18820125-185-200665460 (1 of 1).txt   \n",
       "246   ENGLAND  LOCATION   18960118-698-162826835 (1 of 1).txt   \n",
       "...       ...       ...                                   ...   \n",
       "9257  ENGLAND  LOCATION    18910207-290-91536210 (1 of 1).txt   \n",
       "9288  ENGLAND  LOCATION   18980114-826-166436677 (1 of 1).txt   \n",
       "9291  ENGLAND  LOCATION      18600215-13-5677208 (1 of 1).txt   \n",
       "9437  ENGLAND  LOCATION      18650405-13-5735474 (2 of 2).txt   \n",
       "9493  ENGLAND  LOCATION  18951224-1093-209054122 (1 of 1).txt   \n",
       "\n",
       "     mappify_buildingName  mappify_numberFirst  mappify_numberFirstPrefix  \\\n",
       "47          KYONG STATION                  NaN                        NaN   \n",
       "56          KYONG STATION                  NaN                        NaN   \n",
       "191         KYONG STATION                  NaN                        NaN   \n",
       "228         KYONG STATION                  NaN                        NaN   \n",
       "246         KYONG STATION                  NaN                        NaN   \n",
       "...                   ...                  ...                        ...   \n",
       "9257        KYONG STATION                  NaN                        NaN   \n",
       "9288        KYONG STATION                  NaN                        NaN   \n",
       "9291        KYONG STATION                  NaN                        NaN   \n",
       "9437        KYONG STATION                  NaN                        NaN   \n",
       "9493        KYONG STATION                  NaN                        NaN   \n",
       "\n",
       "     mappify_numberFirstSuffix  mappify_numberLast  mappify_numberLastPrefix  \\\n",
       "47                         NaN                 NaN                       NaN   \n",
       "56                         NaN                 NaN                       NaN   \n",
       "191                        NaN                 NaN                       NaN   \n",
       "228                        NaN                 NaN                       NaN   \n",
       "246                        NaN                 NaN                       NaN   \n",
       "...                        ...                 ...                       ...   \n",
       "9257                       NaN                 NaN                       NaN   \n",
       "9288                       NaN                 NaN                       NaN   \n",
       "9291                       NaN                 NaN                       NaN   \n",
       "9437                       NaN                 NaN                       NaN   \n",
       "9493                       NaN                 NaN                       NaN   \n",
       "\n",
       "      mappify_numberLastSuffix mappify_streetName mappify_streetType  \\\n",
       "47                         NaN    PENTLAND ARAMAC               ROAD   \n",
       "56                         NaN    PENTLAND ARAMAC               ROAD   \n",
       "191                        NaN    PENTLAND ARAMAC               ROAD   \n",
       "228                        NaN    PENTLAND ARAMAC               ROAD   \n",
       "246                        NaN    PENTLAND ARAMAC               ROAD   \n",
       "...                        ...                ...                ...   \n",
       "9257                       NaN    PENTLAND ARAMAC               ROAD   \n",
       "9288                       NaN    PENTLAND ARAMAC               ROAD   \n",
       "9291                       NaN    PENTLAND ARAMAC               ROAD   \n",
       "9437                       NaN    PENTLAND ARAMAC               ROAD   \n",
       "9493                       NaN    PENTLAND ARAMAC               ROAD   \n",
       "\n",
       "     mappify_streetSuffixCode mappify_suburb mappify_state  mappify_postCode  \\\n",
       "47                        NaN       PENTLAND           QLD              4816   \n",
       "56                        NaN       PENTLAND           QLD              4816   \n",
       "191                       NaN       PENTLAND           QLD              4816   \n",
       "228                       NaN       PENTLAND           QLD              4816   \n",
       "246                       NaN       PENTLAND           QLD              4816   \n",
       "...                       ...            ...           ...               ...   \n",
       "9257                      NaN       PENTLAND           QLD              4816   \n",
       "9288                      NaN       PENTLAND           QLD              4816   \n",
       "9291                      NaN       PENTLAND           QLD              4816   \n",
       "9437                      NaN       PENTLAND           QLD              4816   \n",
       "9493                      NaN       PENTLAND           QLD              4816   \n",
       "\n",
       "      mappify_location_lat  mappify_location_lon  \\\n",
       "47              -21.789242            145.932151   \n",
       "56              -21.789242            145.932151   \n",
       "191             -21.789242            145.932151   \n",
       "228             -21.789242            145.932151   \n",
       "246             -21.789242            145.932151   \n",
       "...                    ...                   ...   \n",
       "9257            -21.789242            145.932151   \n",
       "9288            -21.789242            145.932151   \n",
       "9291            -21.789242            145.932151   \n",
       "9437            -21.789242            145.932151   \n",
       "9493            -21.789242            145.932151   \n",
       "\n",
       "                                  mappify_streetAddress  partial ratio  \n",
       "47    KYONG STATION, PENTLAND ARAMAC ROAD, PENTLAND ...             86  \n",
       "56    KYONG STATION, PENTLAND ARAMAC ROAD, PENTLAND ...             86  \n",
       "191   KYONG STATION, PENTLAND ARAMAC ROAD, PENTLAND ...             86  \n",
       "228   KYONG STATION, PENTLAND ARAMAC ROAD, PENTLAND ...             86  \n",
       "246   KYONG STATION, PENTLAND ARAMAC ROAD, PENTLAND ...             86  \n",
       "...                                                 ...            ...  \n",
       "9257  KYONG STATION, PENTLAND ARAMAC ROAD, PENTLAND ...             86  \n",
       "9288  KYONG STATION, PENTLAND ARAMAC ROAD, PENTLAND ...             86  \n",
       "9291  KYONG STATION, PENTLAND ARAMAC ROAD, PENTLAND ...             86  \n",
       "9437  KYONG STATION, PENTLAND ARAMAC ROAD, PENTLAND ...             86  \n",
       "9493  KYONG STATION, PENTLAND ARAMAC ROAD, PENTLAND ...             86  \n",
       "\n",
       "[256 rows x 20 columns]"
      ],
      "text/html": "<div>\n<style scoped>\n    .dataframe tbody tr th:only-of-type {\n        vertical-align: middle;\n    }\n\n    .dataframe tbody tr th {\n        vertical-align: top;\n    }\n\n    .dataframe thead th {\n        text-align: right;\n    }\n</style>\n<table border=\"1\" class=\"dataframe\">\n  <thead>\n    <tr style=\"text-align: right;\">\n      <th></th>\n      <th>0</th>\n      <th>1</th>\n      <th>2</th>\n      <th>mappify_buildingName</th>\n      <th>mappify_numberFirst</th>\n      <th>mappify_numberFirstPrefix</th>\n      <th>mappify_numberFirstSuffix</th>\n      <th>mappify_numberLast</th>\n      <th>mappify_numberLastPrefix</th>\n      <th>mappify_numberLastSuffix</th>\n      <th>mappify_streetName</th>\n      <th>mappify_streetType</th>\n      <th>mappify_streetSuffixCode</th>\n      <th>mappify_suburb</th>\n      <th>mappify_state</th>\n      <th>mappify_postCode</th>\n      <th>mappify_location_lat</th>\n      <th>mappify_location_lon</th>\n      <th>mappify_streetAddress</th>\n      <th>partial ratio</th>\n    </tr>\n  </thead>\n  <tbody>\n    <tr>\n      <th>47</th>\n      <td>ENGLAND</td>\n      <td>LOCATION</td>\n      <td>18660308-558-147267336 (1 of 2).txt</td>\n      <td>KYONG STATION</td>\n      <td>NaN</td>\n      <td>NaN</td>\n      <td>NaN</td>\n      <td>NaN</td>\n      <td>NaN</td>\n      <td>NaN</td>\n      <td>PENTLAND ARAMAC</td>\n      <td>ROAD</td>\n      <td>NaN</td>\n      <td>PENTLAND</td>\n      <td>QLD</td>\n      <td>4816</td>\n      <td>-21.789242</td>\n      <td>145.932151</td>\n      <td>KYONG STATION, PENTLAND ARAMAC ROAD, PENTLAND ...</td>\n      <td>86</td>\n    </tr>\n    <tr>\n      <th>56</th>\n      <td>ENGLAND</td>\n      <td>LOCATION</td>\n      <td>18741218-35-13336814 (1 of 1).txt</td>\n      <td>KYONG STATION</td>\n      <td>NaN</td>\n      <td>NaN</td>\n      <td>NaN</td>\n      <td>NaN</td>\n      <td>NaN</td>\n      <td>NaN</td>\n      <td>PENTLAND ARAMAC</td>\n      <td>ROAD</td>\n      <td>NaN</td>\n      <td>PENTLAND</td>\n      <td>QLD</td>\n      <td>4816</td>\n      <td>-21.789242</td>\n      <td>145.932151</td>\n      <td>KYONG STATION, PENTLAND ARAMAC ROAD, PENTLAND ...</td>\n      <td>86</td>\n    </tr>\n    <tr>\n      <th>191</th>\n      <td>ENGLAND</td>\n      <td>LOCATION</td>\n      <td>18650414-35-13103165 (1 of 2).txt</td>\n      <td>KYONG STATION</td>\n      <td>NaN</td>\n      <td>NaN</td>\n      <td>NaN</td>\n      <td>NaN</td>\n      <td>NaN</td>\n      <td>NaN</td>\n      <td>PENTLAND ARAMAC</td>\n      <td>ROAD</td>\n      <td>NaN</td>\n      <td>PENTLAND</td>\n      <td>QLD</td>\n      <td>4816</td>\n      <td>-21.789242</td>\n      <td>145.932151</td>\n      <td>KYONG STATION, PENTLAND ARAMAC ROAD, PENTLAND ...</td>\n      <td>86</td>\n    </tr>\n    <tr>\n      <th>228</th>\n      <td>ENGLAND</td>\n      <td>LOCATION</td>\n      <td>18820125-185-200665460 (1 of 1).txt</td>\n      <td>KYONG STATION</td>\n      <td>NaN</td>\n      <td>NaN</td>\n      <td>NaN</td>\n      <td>NaN</td>\n      <td>NaN</td>\n      <td>NaN</td>\n      <td>PENTLAND ARAMAC</td>\n      <td>ROAD</td>\n      <td>NaN</td>\n      <td>PENTLAND</td>\n      <td>QLD</td>\n      <td>4816</td>\n      <td>-21.789242</td>\n      <td>145.932151</td>\n      <td>KYONG STATION, PENTLAND ARAMAC ROAD, PENTLAND ...</td>\n      <td>86</td>\n    </tr>\n    <tr>\n      <th>246</th>\n      <td>ENGLAND</td>\n      <td>LOCATION</td>\n      <td>18960118-698-162826835 (1 of 1).txt</td>\n      <td>KYONG STATION</td>\n      <td>NaN</td>\n      <td>NaN</td>\n      <td>NaN</td>\n      <td>NaN</td>\n      <td>NaN</td>\n      <td>NaN</td>\n      <td>PENTLAND ARAMAC</td>\n      <td>ROAD</td>\n      <td>NaN</td>\n      <td>PENTLAND</td>\n      <td>QLD</td>\n      <td>4816</td>\n      <td>-21.789242</td>\n      <td>145.932151</td>\n      <td>KYONG STATION, PENTLAND ARAMAC ROAD, PENTLAND ...</td>\n      <td>86</td>\n    </tr>\n    <tr>\n      <th>...</th>\n      <td>...</td>\n      <td>...</td>\n      <td>...</td>\n      <td>...</td>\n      <td>...</td>\n      <td>...</td>\n      <td>...</td>\n      <td>...</td>\n      <td>...</td>\n      <td>...</td>\n      <td>...</td>\n      <td>...</td>\n      <td>...</td>\n      <td>...</td>\n      <td>...</td>\n      <td>...</td>\n      <td>...</td>\n      <td>...</td>\n      <td>...</td>\n      <td>...</td>\n    </tr>\n    <tr>\n      <th>9257</th>\n      <td>ENGLAND</td>\n      <td>LOCATION</td>\n      <td>18910207-290-91536210 (1 of 1).txt</td>\n      <td>KYONG STATION</td>\n      <td>NaN</td>\n      <td>NaN</td>\n      <td>NaN</td>\n      <td>NaN</td>\n      <td>NaN</td>\n      <td>NaN</td>\n      <td>PENTLAND ARAMAC</td>\n      <td>ROAD</td>\n      <td>NaN</td>\n      <td>PENTLAND</td>\n      <td>QLD</td>\n      <td>4816</td>\n      <td>-21.789242</td>\n      <td>145.932151</td>\n      <td>KYONG STATION, PENTLAND ARAMAC ROAD, PENTLAND ...</td>\n      <td>86</td>\n    </tr>\n    <tr>\n      <th>9288</th>\n      <td>ENGLAND</td>\n      <td>LOCATION</td>\n      <td>18980114-826-166436677 (1 of 1).txt</td>\n      <td>KYONG STATION</td>\n      <td>NaN</td>\n      <td>NaN</td>\n      <td>NaN</td>\n      <td>NaN</td>\n      <td>NaN</td>\n      <td>NaN</td>\n      <td>PENTLAND ARAMAC</td>\n      <td>ROAD</td>\n      <td>NaN</td>\n      <td>PENTLAND</td>\n      <td>QLD</td>\n      <td>4816</td>\n      <td>-21.789242</td>\n      <td>145.932151</td>\n      <td>KYONG STATION, PENTLAND ARAMAC ROAD, PENTLAND ...</td>\n      <td>86</td>\n    </tr>\n    <tr>\n      <th>9291</th>\n      <td>ENGLAND</td>\n      <td>LOCATION</td>\n      <td>18600215-13-5677208 (1 of 1).txt</td>\n      <td>KYONG STATION</td>\n      <td>NaN</td>\n      <td>NaN</td>\n      <td>NaN</td>\n      <td>NaN</td>\n      <td>NaN</td>\n      <td>NaN</td>\n      <td>PENTLAND ARAMAC</td>\n      <td>ROAD</td>\n      <td>NaN</td>\n      <td>PENTLAND</td>\n      <td>QLD</td>\n      <td>4816</td>\n      <td>-21.789242</td>\n      <td>145.932151</td>\n      <td>KYONG STATION, PENTLAND ARAMAC ROAD, PENTLAND ...</td>\n      <td>86</td>\n    </tr>\n    <tr>\n      <th>9437</th>\n      <td>ENGLAND</td>\n      <td>LOCATION</td>\n      <td>18650405-13-5735474 (2 of 2).txt</td>\n      <td>KYONG STATION</td>\n      <td>NaN</td>\n      <td>NaN</td>\n      <td>NaN</td>\n      <td>NaN</td>\n      <td>NaN</td>\n      <td>NaN</td>\n      <td>PENTLAND ARAMAC</td>\n      <td>ROAD</td>\n      <td>NaN</td>\n      <td>PENTLAND</td>\n      <td>QLD</td>\n      <td>4816</td>\n      <td>-21.789242</td>\n      <td>145.932151</td>\n      <td>KYONG STATION, PENTLAND ARAMAC ROAD, PENTLAND ...</td>\n      <td>86</td>\n    </tr>\n    <tr>\n      <th>9493</th>\n      <td>ENGLAND</td>\n      <td>LOCATION</td>\n      <td>18951224-1093-209054122 (1 of 1).txt</td>\n      <td>KYONG STATION</td>\n      <td>NaN</td>\n      <td>NaN</td>\n      <td>NaN</td>\n      <td>NaN</td>\n      <td>NaN</td>\n      <td>NaN</td>\n      <td>PENTLAND ARAMAC</td>\n      <td>ROAD</td>\n      <td>NaN</td>\n      <td>PENTLAND</td>\n      <td>QLD</td>\n      <td>4816</td>\n      <td>-21.789242</td>\n      <td>145.932151</td>\n      <td>KYONG STATION, PENTLAND ARAMAC ROAD, PENTLAND ...</td>\n      <td>86</td>\n    </tr>\n  </tbody>\n</table>\n<p>256 rows × 20 columns</p>\n</div>"
     },
     "metadata": {},
     "execution_count": 12
    }
   ],
   "source": [
    "file[file['0'] == 'ENGLAND'] "
   ]
  },
  {
   "cell_type": "code",
   "execution_count": 13,
   "metadata": {},
   "outputs": [
    {
     "output_type": "execute_result",
     "data": {
      "text/plain": [
       "True"
      ]
     },
     "metadata": {},
     "execution_count": 13
    }
   ],
   "source": [
    "# Use loc to remove all mentions of England from dataframe\n",
    "file = file.loc[file['0'] != 'ENGLAND']\n",
    "# Use loc to remove all mentions of London from dataframe\n",
    "file = file.loc[file['0'] != 'LONDON']\n",
    "# Test to see if they have been removed, if empty should return trye \n",
    "file[file['0'] == 'ENGLAND'].empty"
   ]
  },
  {
   "cell_type": "code",
   "execution_count": 14,
   "metadata": {},
   "outputs": [
    {
     "output_type": "execute_result",
     "data": {
      "text/plain": [
       "MELBOURNE    831\n",
       "ADELAIDE     348\n",
       "BALLARAT     211\n",
       "SANDHURST    197\n",
       "COLAC        128\n",
       "            ... \n",
       "ST KITT        1\n",
       "TEO            1\n",
       "BALA           1\n",
       "CANMORE        1\n",
       "WHITTON        1\n",
       "Name: 0, Length: 2056, dtype: int64"
      ]
     },
     "metadata": {},
     "execution_count": 14
    }
   ],
   "source": [
    "#Check value counts again\n",
    "file['0'].value_counts()"
   ]
  },
  {
   "cell_type": "code",
   "execution_count": 15,
   "metadata": {},
   "outputs": [
    {
     "output_type": "execute_result",
     "data": {
      "text/plain": [
       "100    5532\n",
       "67      638\n",
       "86      545\n",
       "80      513\n",
       "83      378\n",
       "71      292\n",
       "75      280\n",
       "88      232\n",
       "78      217\n",
       "89      178\n",
       "90       85\n",
       "82       60\n",
       "91       55\n",
       "92       37\n",
       "93       16\n",
       "60        8\n",
       "85        4\n",
       "77        2\n",
       "73        2\n",
       "87        2\n",
       "43        1\n",
       "62        1\n",
       "94        1\n",
       "Name: partial ratio, dtype: int64"
      ]
     },
     "metadata": {},
     "execution_count": 15
    }
   ],
   "source": [
    "#check accuracy rate again\n",
    "file['partial ratio'].value_counts()"
   ]
  },
  {
   "cell_type": "code",
   "execution_count": 16,
   "metadata": {},
   "outputs": [
    {
     "output_type": "execute_result",
     "data": {
      "text/plain": [
       "<pandas.core.indexing._LocIndexer at 0x7fae47bb64a0>"
      ]
     },
     "metadata": {},
     "execution_count": 16
    }
   ],
   "source": [
    "#create new column that contains valid entries\n",
    "file['partial ratio'].loc()\n",
    "#file['Valid Places'] = file.apply(lambda x: file.loc(['partial ratio'])\n"
   ]
  },
  {
   "cell_type": "code",
   "execution_count": 17,
   "metadata": {},
   "outputs": [
    {
     "output_type": "execute_result",
     "data": {
      "text/plain": [
       "[Int64Index([   0,    1,    2,    3,    4,    5,    6,    7,    8,    9,\n",
       "             ...\n",
       "             9524, 9525, 9526, 9527, 9528, 9529, 9530, 9531, 9532, 9533],\n",
       "            dtype='int64', length=9079),\n",
       " Index(['0', '1', '2', 'mappify_buildingName', 'mappify_numberFirst',\n",
       "        'mappify_numberFirstPrefix', 'mappify_numberFirstSuffix',\n",
       "        'mappify_numberLast', 'mappify_numberLastPrefix',\n",
       "        'mappify_numberLastSuffix', 'mappify_streetName', 'mappify_streetType',\n",
       "        'mappify_streetSuffixCode', 'mappify_suburb', 'mappify_state',\n",
       "        'mappify_postCode', 'mappify_location_lat', 'mappify_location_lon',\n",
       "        'mappify_streetAddress', 'partial ratio'],\n",
       "       dtype='object')]"
      ]
     },
     "metadata": {},
     "execution_count": 17
    }
   ],
   "source": [
    "file.axes"
   ]
  },
  {
   "source": [
    "Change this to generate output for placenames with less than 90% accuracy "
   ],
   "cell_type": "markdown",
   "metadata": {}
  },
  {
   "source": [
    "# remove all entries that do not reach the accuracy threshold of 90 and return those less than 90 into seperate csv\n",
    "# file = file.loc[file['partial ratio'] >= 90]\n",
    "file = file.loc[file['partial ratio'] < 90]"
   ],
   "cell_type": "code",
   "metadata": {},
   "execution_count": 18,
   "outputs": []
  },
  {
   "cell_type": "code",
   "execution_count": 19,
   "metadata": {},
   "outputs": [
    {
     "output_type": "execute_result",
     "data": {
      "text/plain": [
       "67    638\n",
       "86    545\n",
       "80    513\n",
       "83    378\n",
       "71    292\n",
       "75    280\n",
       "88    232\n",
       "78    217\n",
       "89    178\n",
       "82     60\n",
       "60      8\n",
       "85      4\n",
       "87      2\n",
       "73      2\n",
       "77      2\n",
       "43      1\n",
       "62      1\n",
       "Name: partial ratio, dtype: int64"
      ]
     },
     "metadata": {},
     "execution_count": 19
    }
   ],
   "source": [
    "file['partial ratio'].value_counts()"
   ]
  },
  {
   "cell_type": "code",
   "execution_count": 20,
   "metadata": {},
   "outputs": [],
   "source": [
    "#remove extraneous columns\n",
    "file = file.drop(['mappify_buildingName', 'mappify_numberFirst',\n",
    "        'mappify_numberFirstPrefix', 'mappify_numberFirstSuffix',\n",
    "        'mappify_numberLast', 'mappify_numberLastPrefix',\n",
    "        'mappify_numberLastSuffix', 'mappify_streetName','mappify_streetType',\n",
    "        'mappify_streetSuffixCode','mappify_postCode','mappify_streetAddress'], axis = 1)"
   ]
  },
  {
   "cell_type": "code",
   "execution_count": 21,
   "metadata": {},
   "outputs": [],
   "source": [
    "#write to csv \n",
    "# file.to_csv('/Users/fiannualamorgan/Documents/GitHub/Historical_Fires_Near_Me/Sections/Bushfire_News_Articles_19th_Century/Transformed_Data/Geocoded_LOCATION_Mappify_API/Output/returned_mappify_less_90_acc.csv')"
   ]
  },
  {
   "source": [
    "Now I will reload the cleaned dataset and attach all meta-data by matching on article id"
   ],
   "cell_type": "markdown",
   "metadata": {}
  },
  {
   "cell_type": "code",
   "execution_count": 22,
   "metadata": {},
   "outputs": [],
   "source": [
    "mappify_results = pd.read_csv('/Users/fiannualamorgan/Documents/GitHub/Historical_Fires_Near_Me/Sections/Bushfire_News_Articles_19th_Century/Transformed_Data/Geocoded_LOCATION_Mappify_API/Transformed/Mappify_Results_Fuzzy_Wuzzy_Validation/cleaned_mappify_perfect_results.csv')"
   ]
  },
  {
   "cell_type": "code",
   "execution_count": 23,
   "metadata": {},
   "outputs": [
    {
     "output_type": "stream",
     "name": "stdout",
     "text": [
      "<class 'pandas.core.frame.DataFrame'>\nRangeIndex: 5726 entries, 0 to 5725\nData columns (total 9 columns):\n #   Column                Non-Null Count  Dtype  \n---  ------                --------------  -----  \n 0   Unnamed: 0            5726 non-null   int64  \n 1   0                     5726 non-null   object \n 2   1                     5726 non-null   object \n 3   2                     5726 non-null   object \n 4   mappify_suburb        5726 non-null   object \n 5   mappify_state         5726 non-null   object \n 6   mappify_location_lat  5726 non-null   float64\n 7   mappify_location_lon  5726 non-null   float64\n 8   partial ratio         5726 non-null   int64  \ndtypes: float64(2), int64(2), object(5)\nmemory usage: 402.7+ KB\n"
     ]
    }
   ],
   "source": [
    "#Check all column names\n",
    "mappify_results.info()"
   ]
  },
  {
   "cell_type": "code",
   "execution_count": 24,
   "metadata": {},
   "outputs": [
    {
     "output_type": "execute_result",
     "data": {
      "text/plain": [
       "   Unnamed: 0          0         1                                    2  \\\n",
       "0           3      COBAR  LOCATION     18801230-10-8991754 (1 of 1).txt   \n",
       "1           5   BENAMBRA  LOCATION  18840314-436-254369866 (1 of 1).txt   \n",
       "2           7   BRIGHTON  LOCATION     18630202-13-6483150 (1 of 1).txt   \n",
       "3           8  MELBOURNE  LOCATION     18630202-13-6483150 (1 of 1).txt   \n",
       "4           9     BYWONG  LOCATION     18950225-30-4550862 (2 of 2).txt   \n",
       "\n",
       "  mappify_suburb mappify_state  mappify_location_lat  mappify_location_lon  \\\n",
       "0          COBAR           NSW            -31.527505            145.856320   \n",
       "1       BENAMBRA           VIC            -36.972401            147.702019   \n",
       "2       BRIGHTON            SA            -35.016432            138.523661   \n",
       "3      MELBOURNE           VIC            -37.813513            144.969082   \n",
       "4         BYWONG           NSW            -35.169799            149.332208   \n",
       "\n",
       "   partial ratio  \n",
       "0            100  \n",
       "1            100  \n",
       "2            100  \n",
       "3            100  \n",
       "4            100  "
      ],
      "text/html": "<div>\n<style scoped>\n    .dataframe tbody tr th:only-of-type {\n        vertical-align: middle;\n    }\n\n    .dataframe tbody tr th {\n        vertical-align: top;\n    }\n\n    .dataframe thead th {\n        text-align: right;\n    }\n</style>\n<table border=\"1\" class=\"dataframe\">\n  <thead>\n    <tr style=\"text-align: right;\">\n      <th></th>\n      <th>Unnamed: 0</th>\n      <th>0</th>\n      <th>1</th>\n      <th>2</th>\n      <th>mappify_suburb</th>\n      <th>mappify_state</th>\n      <th>mappify_location_lat</th>\n      <th>mappify_location_lon</th>\n      <th>partial ratio</th>\n    </tr>\n  </thead>\n  <tbody>\n    <tr>\n      <th>0</th>\n      <td>3</td>\n      <td>COBAR</td>\n      <td>LOCATION</td>\n      <td>18801230-10-8991754 (1 of 1).txt</td>\n      <td>COBAR</td>\n      <td>NSW</td>\n      <td>-31.527505</td>\n      <td>145.856320</td>\n      <td>100</td>\n    </tr>\n    <tr>\n      <th>1</th>\n      <td>5</td>\n      <td>BENAMBRA</td>\n      <td>LOCATION</td>\n      <td>18840314-436-254369866 (1 of 1).txt</td>\n      <td>BENAMBRA</td>\n      <td>VIC</td>\n      <td>-36.972401</td>\n      <td>147.702019</td>\n      <td>100</td>\n    </tr>\n    <tr>\n      <th>2</th>\n      <td>7</td>\n      <td>BRIGHTON</td>\n      <td>LOCATION</td>\n      <td>18630202-13-6483150 (1 of 1).txt</td>\n      <td>BRIGHTON</td>\n      <td>SA</td>\n      <td>-35.016432</td>\n      <td>138.523661</td>\n      <td>100</td>\n    </tr>\n    <tr>\n      <th>3</th>\n      <td>8</td>\n      <td>MELBOURNE</td>\n      <td>LOCATION</td>\n      <td>18630202-13-6483150 (1 of 1).txt</td>\n      <td>MELBOURNE</td>\n      <td>VIC</td>\n      <td>-37.813513</td>\n      <td>144.969082</td>\n      <td>100</td>\n    </tr>\n    <tr>\n      <th>4</th>\n      <td>9</td>\n      <td>BYWONG</td>\n      <td>LOCATION</td>\n      <td>18950225-30-4550862 (2 of 2).txt</td>\n      <td>BYWONG</td>\n      <td>NSW</td>\n      <td>-35.169799</td>\n      <td>149.332208</td>\n      <td>100</td>\n    </tr>\n  </tbody>\n</table>\n</div>"
     },
     "metadata": {},
     "execution_count": 24
    }
   ],
   "source": [
    "#print first five rows\n",
    "mappify_results.head()"
   ]
  },
  {
   "cell_type": "code",
   "execution_count": 44,
   "metadata": {
    "tags": []
   },
   "outputs": [],
   "source": [
    "#need to create a new column from column 2 that returns the unique id so break on comma\n",
    "article_ids = []\n",
    "for i,row in mappify_results.iterrows():\n",
    "    unique_id = row['2'].split(' ')[0].split('-')[-1]\n",
    "    article_ids.append(unique_id)\n",
    "\n",
    "\n",
    "#article_id = mappify_results['2'].str.split('(')[0]"
   ]
  },
  {
   "cell_type": "code",
   "execution_count": 47,
   "metadata": {},
   "outputs": [],
   "source": [
    "#merge these two dataframes and drop column 1 and 0\n",
    "mappify_results['article_id'] = article_ids\n",
    "merged_df = mappify_results"
   ]
  },
  {
   "cell_type": "code",
   "execution_count": 50,
   "metadata": {},
   "outputs": [
    {
     "output_type": "execute_result",
     "data": {
      "text/plain": [
       "   Unnamed: 0          0         1                                    2  \\\n",
       "0           3      COBAR  LOCATION     18801230-10-8991754 (1 of 1).txt   \n",
       "1           5   BENAMBRA  LOCATION  18840314-436-254369866 (1 of 1).txt   \n",
       "2           7   BRIGHTON  LOCATION     18630202-13-6483150 (1 of 1).txt   \n",
       "3           8  MELBOURNE  LOCATION     18630202-13-6483150 (1 of 1).txt   \n",
       "4           9     BYWONG  LOCATION     18950225-30-4550862 (2 of 2).txt   \n",
       "\n",
       "  mappify_suburb mappify_state  mappify_location_lat  mappify_location_lon  \\\n",
       "0          COBAR           NSW            -31.527505            145.856320   \n",
       "1       BENAMBRA           VIC            -36.972401            147.702019   \n",
       "2       BRIGHTON            SA            -35.016432            138.523661   \n",
       "3      MELBOURNE           VIC            -37.813513            144.969082   \n",
       "4         BYWONG           NSW            -35.169799            149.332208   \n",
       "\n",
       "   partial ratio article_id  \n",
       "0            100    8991754  \n",
       "1            100  254369866  \n",
       "2            100    6483150  \n",
       "3            100    6483150  \n",
       "4            100    4550862  "
      ],
      "text/html": "<div>\n<style scoped>\n    .dataframe tbody tr th:only-of-type {\n        vertical-align: middle;\n    }\n\n    .dataframe tbody tr th {\n        vertical-align: top;\n    }\n\n    .dataframe thead th {\n        text-align: right;\n    }\n</style>\n<table border=\"1\" class=\"dataframe\">\n  <thead>\n    <tr style=\"text-align: right;\">\n      <th></th>\n      <th>Unnamed: 0</th>\n      <th>0</th>\n      <th>1</th>\n      <th>2</th>\n      <th>mappify_suburb</th>\n      <th>mappify_state</th>\n      <th>mappify_location_lat</th>\n      <th>mappify_location_lon</th>\n      <th>partial ratio</th>\n      <th>article_id</th>\n    </tr>\n  </thead>\n  <tbody>\n    <tr>\n      <th>0</th>\n      <td>3</td>\n      <td>COBAR</td>\n      <td>LOCATION</td>\n      <td>18801230-10-8991754 (1 of 1).txt</td>\n      <td>COBAR</td>\n      <td>NSW</td>\n      <td>-31.527505</td>\n      <td>145.856320</td>\n      <td>100</td>\n      <td>8991754</td>\n    </tr>\n    <tr>\n      <th>1</th>\n      <td>5</td>\n      <td>BENAMBRA</td>\n      <td>LOCATION</td>\n      <td>18840314-436-254369866 (1 of 1).txt</td>\n      <td>BENAMBRA</td>\n      <td>VIC</td>\n      <td>-36.972401</td>\n      <td>147.702019</td>\n      <td>100</td>\n      <td>254369866</td>\n    </tr>\n    <tr>\n      <th>2</th>\n      <td>7</td>\n      <td>BRIGHTON</td>\n      <td>LOCATION</td>\n      <td>18630202-13-6483150 (1 of 1).txt</td>\n      <td>BRIGHTON</td>\n      <td>SA</td>\n      <td>-35.016432</td>\n      <td>138.523661</td>\n      <td>100</td>\n      <td>6483150</td>\n    </tr>\n    <tr>\n      <th>3</th>\n      <td>8</td>\n      <td>MELBOURNE</td>\n      <td>LOCATION</td>\n      <td>18630202-13-6483150 (1 of 1).txt</td>\n      <td>MELBOURNE</td>\n      <td>VIC</td>\n      <td>-37.813513</td>\n      <td>144.969082</td>\n      <td>100</td>\n      <td>6483150</td>\n    </tr>\n    <tr>\n      <th>4</th>\n      <td>9</td>\n      <td>BYWONG</td>\n      <td>LOCATION</td>\n      <td>18950225-30-4550862 (2 of 2).txt</td>\n      <td>BYWONG</td>\n      <td>NSW</td>\n      <td>-35.169799</td>\n      <td>149.332208</td>\n      <td>100</td>\n      <td>4550862</td>\n    </tr>\n  </tbody>\n</table>\n</div>"
     },
     "metadata": {},
     "execution_count": 50
    }
   ],
   "source": [
    "merged_df.head()"
   ]
  },
  {
   "cell_type": "code",
   "execution_count": 53,
   "metadata": {},
   "outputs": [
    {
     "output_type": "execute_result",
     "data": {
      "text/plain": [
       "   old_index place_name entity_type                             filename  \\\n",
       "0          3      COBAR    LOCATION     18801230-10-8991754 (1 of 1).txt   \n",
       "1          5   BENAMBRA    LOCATION  18840314-436-254369866 (1 of 1).txt   \n",
       "2          7   BRIGHTON    LOCATION     18630202-13-6483150 (1 of 1).txt   \n",
       "3          8  MELBOURNE    LOCATION     18630202-13-6483150 (1 of 1).txt   \n",
       "4          9     BYWONG    LOCATION     18950225-30-4550862 (2 of 2).txt   \n",
       "\n",
       "  mappify_suburb state  mappify_lat  mappify_long  partial_ratio article_id  \n",
       "0          COBAR   NSW   -31.527505    145.856320            100    8991754  \n",
       "1       BENAMBRA   VIC   -36.972401    147.702019            100  254369866  \n",
       "2       BRIGHTON    SA   -35.016432    138.523661            100    6483150  \n",
       "3      MELBOURNE   VIC   -37.813513    144.969082            100    6483150  \n",
       "4         BYWONG   NSW   -35.169799    149.332208            100    4550862  "
      ],
      "text/html": "<div>\n<style scoped>\n    .dataframe tbody tr th:only-of-type {\n        vertical-align: middle;\n    }\n\n    .dataframe tbody tr th {\n        vertical-align: top;\n    }\n\n    .dataframe thead th {\n        text-align: right;\n    }\n</style>\n<table border=\"1\" class=\"dataframe\">\n  <thead>\n    <tr style=\"text-align: right;\">\n      <th></th>\n      <th>old_index</th>\n      <th>place_name</th>\n      <th>entity_type</th>\n      <th>filename</th>\n      <th>mappify_suburb</th>\n      <th>state</th>\n      <th>mappify_lat</th>\n      <th>mappify_long</th>\n      <th>partial_ratio</th>\n      <th>article_id</th>\n    </tr>\n  </thead>\n  <tbody>\n    <tr>\n      <th>0</th>\n      <td>3</td>\n      <td>COBAR</td>\n      <td>LOCATION</td>\n      <td>18801230-10-8991754 (1 of 1).txt</td>\n      <td>COBAR</td>\n      <td>NSW</td>\n      <td>-31.527505</td>\n      <td>145.856320</td>\n      <td>100</td>\n      <td>8991754</td>\n    </tr>\n    <tr>\n      <th>1</th>\n      <td>5</td>\n      <td>BENAMBRA</td>\n      <td>LOCATION</td>\n      <td>18840314-436-254369866 (1 of 1).txt</td>\n      <td>BENAMBRA</td>\n      <td>VIC</td>\n      <td>-36.972401</td>\n      <td>147.702019</td>\n      <td>100</td>\n      <td>254369866</td>\n    </tr>\n    <tr>\n      <th>2</th>\n      <td>7</td>\n      <td>BRIGHTON</td>\n      <td>LOCATION</td>\n      <td>18630202-13-6483150 (1 of 1).txt</td>\n      <td>BRIGHTON</td>\n      <td>SA</td>\n      <td>-35.016432</td>\n      <td>138.523661</td>\n      <td>100</td>\n      <td>6483150</td>\n    </tr>\n    <tr>\n      <th>3</th>\n      <td>8</td>\n      <td>MELBOURNE</td>\n      <td>LOCATION</td>\n      <td>18630202-13-6483150 (1 of 1).txt</td>\n      <td>MELBOURNE</td>\n      <td>VIC</td>\n      <td>-37.813513</td>\n      <td>144.969082</td>\n      <td>100</td>\n      <td>6483150</td>\n    </tr>\n    <tr>\n      <th>4</th>\n      <td>9</td>\n      <td>BYWONG</td>\n      <td>LOCATION</td>\n      <td>18950225-30-4550862 (2 of 2).txt</td>\n      <td>BYWONG</td>\n      <td>NSW</td>\n      <td>-35.169799</td>\n      <td>149.332208</td>\n      <td>100</td>\n      <td>4550862</td>\n    </tr>\n  </tbody>\n</table>\n</div>"
     },
     "metadata": {},
     "execution_count": 53
    }
   ],
   "source": [
    "merged_df.columns= ['old_index', 'place_name', 'entity_type', 'filename', 'mappify_suburb', 'state','mappify_lat', 'mappify_long', 'partial_ratio','article_id']\n",
    "merged_df.head()"
   ]
  },
  {
   "cell_type": "code",
   "execution_count": 54,
   "metadata": {},
   "outputs": [
    {
     "output_type": "execute_result",
     "data": {
      "text/plain": [
       "  place_name entity_type                             filename mappify_suburb  \\\n",
       "0      COBAR    LOCATION     18801230-10-8991754 (1 of 1).txt          COBAR   \n",
       "1   BENAMBRA    LOCATION  18840314-436-254369866 (1 of 1).txt       BENAMBRA   \n",
       "2   BRIGHTON    LOCATION     18630202-13-6483150 (1 of 1).txt       BRIGHTON   \n",
       "3  MELBOURNE    LOCATION     18630202-13-6483150 (1 of 1).txt      MELBOURNE   \n",
       "4     BYWONG    LOCATION     18950225-30-4550862 (2 of 2).txt         BYWONG   \n",
       "\n",
       "  state  mappify_lat  mappify_long  partial_ratio article_id  \n",
       "0   NSW   -31.527505    145.856320            100    8991754  \n",
       "1   VIC   -36.972401    147.702019            100  254369866  \n",
       "2    SA   -35.016432    138.523661            100    6483150  \n",
       "3   VIC   -37.813513    144.969082            100    6483150  \n",
       "4   NSW   -35.169799    149.332208            100    4550862  "
      ],
      "text/html": "<div>\n<style scoped>\n    .dataframe tbody tr th:only-of-type {\n        vertical-align: middle;\n    }\n\n    .dataframe tbody tr th {\n        vertical-align: top;\n    }\n\n    .dataframe thead th {\n        text-align: right;\n    }\n</style>\n<table border=\"1\" class=\"dataframe\">\n  <thead>\n    <tr style=\"text-align: right;\">\n      <th></th>\n      <th>place_name</th>\n      <th>entity_type</th>\n      <th>filename</th>\n      <th>mappify_suburb</th>\n      <th>state</th>\n      <th>mappify_lat</th>\n      <th>mappify_long</th>\n      <th>partial_ratio</th>\n      <th>article_id</th>\n    </tr>\n  </thead>\n  <tbody>\n    <tr>\n      <th>0</th>\n      <td>COBAR</td>\n      <td>LOCATION</td>\n      <td>18801230-10-8991754 (1 of 1).txt</td>\n      <td>COBAR</td>\n      <td>NSW</td>\n      <td>-31.527505</td>\n      <td>145.856320</td>\n      <td>100</td>\n      <td>8991754</td>\n    </tr>\n    <tr>\n      <th>1</th>\n      <td>BENAMBRA</td>\n      <td>LOCATION</td>\n      <td>18840314-436-254369866 (1 of 1).txt</td>\n      <td>BENAMBRA</td>\n      <td>VIC</td>\n      <td>-36.972401</td>\n      <td>147.702019</td>\n      <td>100</td>\n      <td>254369866</td>\n    </tr>\n    <tr>\n      <th>2</th>\n      <td>BRIGHTON</td>\n      <td>LOCATION</td>\n      <td>18630202-13-6483150 (1 of 1).txt</td>\n      <td>BRIGHTON</td>\n      <td>SA</td>\n      <td>-35.016432</td>\n      <td>138.523661</td>\n      <td>100</td>\n      <td>6483150</td>\n    </tr>\n    <tr>\n      <th>3</th>\n      <td>MELBOURNE</td>\n      <td>LOCATION</td>\n      <td>18630202-13-6483150 (1 of 1).txt</td>\n      <td>MELBOURNE</td>\n      <td>VIC</td>\n      <td>-37.813513</td>\n      <td>144.969082</td>\n      <td>100</td>\n      <td>6483150</td>\n    </tr>\n    <tr>\n      <th>4</th>\n      <td>BYWONG</td>\n      <td>LOCATION</td>\n      <td>18950225-30-4550862 (2 of 2).txt</td>\n      <td>BYWONG</td>\n      <td>NSW</td>\n      <td>-35.169799</td>\n      <td>149.332208</td>\n      <td>100</td>\n      <td>4550862</td>\n    </tr>\n  </tbody>\n</table>\n</div>"
     },
     "metadata": {},
     "execution_count": 54
    }
   ],
   "source": [
    "# delete the columns ['remaining_trove_id','old_index', 'mystery', 'second_placename']\n",
    "merged_df = merged_df.drop(['old_index'], axis=1)\n",
    "merged_df.head()"
   ]
  },
  {
   "cell_type": "code",
   "execution_count": 55,
   "metadata": {},
   "outputs": [
    {
     "output_type": "stream",
     "name": "stdout",
     "text": [
      "<class 'pandas.core.frame.DataFrame'>\nRangeIndex: 5726 entries, 0 to 5725\nData columns (total 9 columns):\n #   Column          Non-Null Count  Dtype  \n---  ------          --------------  -----  \n 0   place_name      5726 non-null   object \n 1   entity_type     5726 non-null   object \n 2   filename        5726 non-null   object \n 3   mappify_suburb  5726 non-null   object \n 4   state           5726 non-null   object \n 5   mappify_lat     5726 non-null   float64\n 6   mappify_long    5726 non-null   float64\n 7   partial_ratio   5726 non-null   int64  \n 8   article_id      5726 non-null   object \ndtypes: float64(2), int64(1), object(6)\nmemory usage: 402.7+ KB\n"
     ]
    }
   ],
   "source": [
    "merged_df.info()"
   ]
  },
  {
   "cell_type": "code",
   "execution_count": 56,
   "metadata": {},
   "outputs": [],
   "source": [
    "#try and reassign article_id as an integer\n",
    "merged_df = merged_df.astype({'article_id': int})"
   ]
  },
  {
   "cell_type": "code",
   "execution_count": 57,
   "metadata": {},
   "outputs": [
    {
     "output_type": "stream",
     "name": "stdout",
     "text": [
      "<class 'pandas.core.frame.DataFrame'>\nRangeIndex: 5726 entries, 0 to 5725\nData columns (total 9 columns):\n #   Column          Non-Null Count  Dtype  \n---  ------          --------------  -----  \n 0   place_name      5726 non-null   object \n 1   entity_type     5726 non-null   object \n 2   filename        5726 non-null   object \n 3   mappify_suburb  5726 non-null   object \n 4   state           5726 non-null   object \n 5   mappify_lat     5726 non-null   float64\n 6   mappify_long    5726 non-null   float64\n 7   partial_ratio   5726 non-null   int64  \n 8   article_id      5726 non-null   int64  \ndtypes: float64(2), int64(2), object(5)\nmemory usage: 402.7+ KB\n"
     ]
    }
   ],
   "source": [
    "#check this has worked\n",
    "merged_df.info()"
   ]
  },
  {
   "cell_type": "code",
   "execution_count": 58,
   "metadata": {},
   "outputs": [],
   "source": [
    "#load in publication data\n",
    "#need to append it to \n",
    "publication_data = pd.read_csv('/Users/fiannualamorgan/Documents/GitHub/Historical_Fires_Near_Me/Sections/Bushfire_News_Articles_19th_Century/Cleaned_Datasets/Publication_Place_Spreadsheet.csv')"
   ]
  },
  {
   "cell_type": "code",
   "execution_count": 53,
   "metadata": {},
   "outputs": [
    {
     "output_type": "stream",
     "name": "stdout",
     "text": [
      "<class 'pandas.core.frame.DataFrame'>\nRangeIndex: 5102 entries, 0 to 5101\nData columns (total 17 columns):\n #   Column           Non-Null Count  Dtype  \n---  ------           --------------  -----  \n 0   article_id       5102 non-null   int64  \n 1   Lat              5025 non-null   float64\n 2   Long             5025 non-null   float64\n 3   Place            5038 non-null   object \n 4   newspaper_title  5102 non-null   object \n 5   State            1128 non-null   object \n 6   title            5101 non-null   object \n 7   newspaper_id     5102 non-null   int64  \n 8   page             5102 non-null   object \n 9   date             5102 non-null   object \n 10  category         5102 non-null   object \n 11  words            5102 non-null   int64  \n 12  illustrated      5102 non-null   object \n 13  corrections      5102 non-null   int64  \n 14  snippet          5043 non-null   object \n 15  url              5087 non-null   object \n 16  page_url         5087 non-null   object \ndtypes: float64(2), int64(4), object(11)\nmemory usage: 677.7+ KB\n"
     ]
    }
   ],
   "source": [
    "publication_data.info()\n"
   ]
  },
  {
   "cell_type": "code",
   "execution_count": 60,
   "metadata": {},
   "outputs": [
    {
     "output_type": "execute_result",
     "data": {
      "text/plain": [
       "66447861"
      ]
     },
     "metadata": {},
     "execution_count": 60
    }
   ],
   "source": [
    "import random\n",
    "random.choice(merged_df.article_id.to_list())"
   ]
  },
  {
   "cell_type": "code",
   "execution_count": 61,
   "metadata": {},
   "outputs": [
    {
     "output_type": "execute_result",
     "data": {
      "text/plain": [
       "2235"
      ]
     },
     "metadata": {},
     "execution_count": 61
    }
   ],
   "source": [
    "len(list(set(merged_df.article_id.to_list())))"
   ]
  },
  {
   "cell_type": "code",
   "execution_count": 62,
   "metadata": {},
   "outputs": [
    {
     "output_type": "execute_result",
     "data": {
      "text/plain": [
       "5102"
      ]
     },
     "metadata": {},
     "execution_count": 62
    }
   ],
   "source": [
    "len(list(set(publication_data.article_id.to_list())))"
   ]
  },
  {
   "cell_type": "code",
   "execution_count": null,
   "metadata": {
    "tags": []
   },
   "outputs": [],
   "source": [
    "import random\n",
    "\n",
    "def get_newspaper_title(article_id_to_match, df):\n",
    "    for i,row in df.iterrows():\n",
    "        if str(row.article_id) == str(article_id_to_match):\n",
    "            return row.newspaper_title\n",
    "        else:\n",
    "            continue\n",
    "\n",
    "#print(get_newspaper_title(random.choice(merged_df.article_id.to_list()), publication_data))\n",
    "\n",
    "#matching_lines = df[df['article_id'] == str(article_id_to_match)]\n",
    "    #if matching_lines.shape[0] == 0:\n",
    "        #print(matching_lines.shape)\n",
    "        #return None\n",
    "    #else:\n",
    "        #newspaper_title_match = matching_lines.newspaper_title.to_list()[0]\n",
    "        #return newspaper_title_match\"\"\"\n",
    "\n"
   ]
  },
  {
   "cell_type": "code",
   "execution_count": null,
   "metadata": {},
   "outputs": [],
   "source": [
    "newspaper_titles = []\n",
    "for i,article_id in enumerate.merged_df.article_id.to_list():\n",
    "    newspaper_titles.append(get_newspaper_title(article_id, publication_data))\n",
    "    print( index article id found)"
   ]
  },
  {
   "cell_type": "code",
   "execution_count": null,
   "metadata": {},
   "outputs": [],
   "source": [
    "merged_df['newspaper_title'] = [get_newspaper_title(article_id, publication_data) for article_id in merged_df.article_id.to_list()]"
   ]
  },
  {
   "cell_type": "code",
   "execution_count": null,
   "metadata": {},
   "outputs": [],
   "source": [
    "print(merged_df.newspaper_title)"
   ]
  },
  {
   "cell_type": "code",
   "execution_count": 99,
   "metadata": {},
   "outputs": [
    {
     "output_type": "stream",
     "name": "stdout",
     "text": [
      "0\n1\n2\n"
     ]
    }
   ],
   "source": [
    "for index,fruit in enumerate(['apple', 'pear', 'orange']):\n",
    "    \n",
    "\n"
   ]
  },
  {
   "cell_type": "code",
   "execution_count": 86,
   "metadata": {},
   "outputs": [
    {
     "output_type": "execute_result",
     "data": {
      "text/plain": [
       "   article_id placename                          entity_type state  \\\n",
       "0    18801230  LOCATION     18801230-10-8991754 (1 of 1).txt   NSW   \n",
       "1    18840314  LOCATION  18840314-436-254369866 (1 of 1).txt   VIC   \n",
       "2    18630202  LOCATION     18630202-13-6483150 (1 of 1).txt    SA   \n",
       "3    18630202  LOCATION     18630202-13-6483150 (1 of 1).txt   VIC   \n",
       "4    18950225  LOCATION     18950225-30-4550862 (2 of 2).txt   NSW   \n",
       "\n",
       "   mappify_lat  mappify_long  partial_ratio newspaper_title  \n",
       "0   -31.527505    145.856320            100            None  \n",
       "1   -36.972401    147.702019            100            None  \n",
       "2   -35.016432    138.523661            100            None  \n",
       "3   -37.813513    144.969082            100            None  \n",
       "4   -35.169799    149.332208            100            None  "
      ],
      "text/html": "<div>\n<style scoped>\n    .dataframe tbody tr th:only-of-type {\n        vertical-align: middle;\n    }\n\n    .dataframe tbody tr th {\n        vertical-align: top;\n    }\n\n    .dataframe thead th {\n        text-align: right;\n    }\n</style>\n<table border=\"1\" class=\"dataframe\">\n  <thead>\n    <tr style=\"text-align: right;\">\n      <th></th>\n      <th>article_id</th>\n      <th>placename</th>\n      <th>entity_type</th>\n      <th>state</th>\n      <th>mappify_lat</th>\n      <th>mappify_long</th>\n      <th>partial_ratio</th>\n      <th>newspaper_title</th>\n    </tr>\n  </thead>\n  <tbody>\n    <tr>\n      <th>0</th>\n      <td>18801230</td>\n      <td>LOCATION</td>\n      <td>18801230-10-8991754 (1 of 1).txt</td>\n      <td>NSW</td>\n      <td>-31.527505</td>\n      <td>145.856320</td>\n      <td>100</td>\n      <td>None</td>\n    </tr>\n    <tr>\n      <th>1</th>\n      <td>18840314</td>\n      <td>LOCATION</td>\n      <td>18840314-436-254369866 (1 of 1).txt</td>\n      <td>VIC</td>\n      <td>-36.972401</td>\n      <td>147.702019</td>\n      <td>100</td>\n      <td>None</td>\n    </tr>\n    <tr>\n      <th>2</th>\n      <td>18630202</td>\n      <td>LOCATION</td>\n      <td>18630202-13-6483150 (1 of 1).txt</td>\n      <td>SA</td>\n      <td>-35.016432</td>\n      <td>138.523661</td>\n      <td>100</td>\n      <td>None</td>\n    </tr>\n    <tr>\n      <th>3</th>\n      <td>18630202</td>\n      <td>LOCATION</td>\n      <td>18630202-13-6483150 (1 of 1).txt</td>\n      <td>VIC</td>\n      <td>-37.813513</td>\n      <td>144.969082</td>\n      <td>100</td>\n      <td>None</td>\n    </tr>\n    <tr>\n      <th>4</th>\n      <td>18950225</td>\n      <td>LOCATION</td>\n      <td>18950225-30-4550862 (2 of 2).txt</td>\n      <td>NSW</td>\n      <td>-35.169799</td>\n      <td>149.332208</td>\n      <td>100</td>\n      <td>None</td>\n    </tr>\n  </tbody>\n</table>\n</div>"
     },
     "metadata": {},
     "execution_count": 86
    }
   ],
   "source": [
    "merged_df.head()"
   ]
  },
  {
   "cell_type": "code",
   "execution_count": null,
   "metadata": {},
   "outputs": [],
   "source": []
  },
  {
   "cell_type": "code",
   "execution_count": 70,
   "metadata": {},
   "outputs": [
    {
     "output_type": "stream",
     "name": "stdout",
     "text": [
      "[0, 1, 2, 3, 4, 5, 6, 7, 8, 9]\n"
     ]
    }
   ],
   "source": [
    "results = []\n",
    "for i in range(10):\n",
    "    results.append(i)\n",
    "print(results)"
   ]
  },
  {
   "cell_type": "code",
   "execution_count": null,
   "metadata": {},
   "outputs": [],
   "source": []
  }
 ],
 "metadata": {
  "kernelspec": {
   "name": "python3",
   "display_name": "Python 3.8.5 64-bit ('base': conda)"
  },
  "language_info": {
   "codemirror_mode": {
    "name": "ipython",
    "version": 3
   },
   "file_extension": ".py",
   "mimetype": "text/x-python",
   "name": "python",
   "nbconvert_exporter": "python",
   "pygments_lexer": "ipython3",
   "version": "3.8.5"
  },
  "interpreter": {
   "hash": "918678bd1f45f82304edc93a653aba01640b34ac9e09e2ef2bcfd4858dea0132"
  }
 },
 "nbformat": 4,
 "nbformat_minor": 4
}