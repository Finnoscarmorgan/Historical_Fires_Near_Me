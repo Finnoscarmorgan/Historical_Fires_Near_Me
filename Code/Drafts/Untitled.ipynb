{
 "cells": [
  {
   "cell_type": "code",
   "execution_count": 1,
   "metadata": {},
   "outputs": [],
   "source": [
    "import pandas as pd"
   ]
  },
  {
   "cell_type": "code",
   "execution_count": 2,
   "metadata": {},
   "outputs": [],
   "source": [
    "file = pd.read_csv('/Users/fiannualamorgan/Documents/2021/Code_and_data/Geospatial_Project/location_named_entities_with_trove.csv')"
   ]
  },
  {
   "cell_type": "code",
   "execution_count": 5,
   "metadata": {},
   "outputs": [
    {
     "data": {
      "text/plain": [
       "995284"
      ]
     },
     "execution_count": 5,
     "metadata": {},
     "output_type": "execute_result"
    }
   ],
   "source": [
    "len(file)"
   ]
  },
  {
   "cell_type": "code",
   "execution_count": 6,
   "metadata": {},
   "outputs": [
    {
     "data": {
      "text/plain": [
       "<bound method NDFrame.head of         Unnamed: 0                                           filename  \\\n",
       "0                0                  10000_27_8_1909_7_I__99749674.tsv   \n",
       "1                1                  10000_27_8_1909_7_I__99749674.tsv   \n",
       "2                2                  10000_27_8_1909_7_I__99749674.tsv   \n",
       "3                3                  10000_27_8_1909_7_I__99749674.tsv   \n",
       "4                4                  10000_27_8_1909_7_I__99749674.tsv   \n",
       "...            ...                                                ...   \n",
       "995279      995279  9_8_04_1882_4_XII_FATE HAS DONE ITS WORST_8505...   \n",
       "995280      995280  9_8_04_1882_4_XII_FATE HAS DONE ITS WORST_8505...   \n",
       "995281      995281  9_8_04_1882_4_XII_FATE HAS DONE ITS WORST_8505...   \n",
       "995282      995282  9_8_04_1882_4_XII_FATE HAS DONE ITS WORST_8505...   \n",
       "995283      995283  9_8_04_1882_4_XII_FATE HAS DONE ITS WORST_8505...   \n",
       "\n",
       "       entity_type               result  position  article_id  trove_id  \n",
       "0         LOCATION              Bristol       156    99749674     10000  \n",
       "1         LOCATION          Giastonbury       278    99749674     10000  \n",
       "2         LOCATION        Giassv Island       456    99749674     10000  \n",
       "3         LOCATION  St. Joseph's Chapel      1602    99749674     10000  \n",
       "4         LOCATION           Malmesbury      2288    99749674     10000  \n",
       "...            ...                  ...       ...         ...       ...  \n",
       "995279    LOCATION         Capitol Hill      6647      850586         9  \n",
       "995280    LOCATION              Potomac      8931      850586         9  \n",
       "995281    LOCATION              Norfolk      9674      850586         9  \n",
       "995282    LOCATION        Prospect Hill     10831      850586         9  \n",
       "995283    LOCATION       Miss Clendenon     12130      850586         9  \n",
       "\n",
       "[995284 rows x 7 columns]>"
      ]
     },
     "execution_count": 6,
     "metadata": {},
     "output_type": "execute_result"
    }
   ],
   "source": [
    "file.head"
   ]
  },
  {
   "cell_type": "code",
   "execution_count": null,
   "metadata": {},
   "outputs": [],
   "source": [
    "for i in range:\n",
    "    prtine(entity)"
   ]
  }
 ],
 "metadata": {
  "kernelspec": {
   "display_name": "Python 3",
   "language": "python",
   "name": "python3"
  },
  "language_info": {
   "codemirror_mode": {
    "name": "ipython",
    "version": 3
   },
   "file_extension": ".py",
   "mimetype": "text/x-python",
   "name": "python",
   "nbconvert_exporter": "python",
   "pygments_lexer": "ipython3",
   "version": "3.8.5"
  }
 },
 "nbformat": 4,
 "nbformat_minor": 4
}
